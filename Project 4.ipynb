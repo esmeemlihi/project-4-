{
 "cells": [
  {
   "cell_type": "code",
   "execution_count": null,
   "metadata": {},
   "outputs": [],
   "source": [
    "PROJECT 4\n",
    "\n",
    "Find an intresting subject: \n",
    "    \n",
    "    Research what is already found out \n",
    "    What is still missing?\n",
    "    Do data anaylics to answerthe open quetsions \n",
    "    \n",
    "    \n",
    "USABLE DATA SETS\n",
    "    any data you can find \n",
    "    cvs, excel, API, scraping \n",
    "\n",
    "HANDY SOURCES \n",
    "    Kaggle (a place where people store data sets)\n",
    "    \n",
    "POTENTIAL INTRESTING QUESTIONS\n",
    "    What are detemining factors that determine a price of a house\n",
    "    (instead of what would be my perfect house?)"
   ]
  },
  {
   "cell_type": "code",
   "execution_count": null,
   "metadata": {},
   "outputs": [],
   "source": [
    "QIESTION:\n",
    "    What are the determining factors to dertimine a living foodprint? \n",
    "    (hidden costs in data analytics)"
   ]
  },
  {
   "cell_type": "code",
   "execution_count": null,
   "metadata": {},
   "outputs": [],
   "source": [
    "https://github.com/ta-data-bcn/Project-Week-5-Your-Own-Project/blob/master/Kick-Off.md"
   ]
  },
  {
   "cell_type": "code",
   "execution_count": null,
   "metadata": {},
   "outputs": [],
   "source": [
    "https://www.kaggle.com/\n",
    "\n",
    "https://thinkbigactnow.org/nl/\n",
    "http://impact.babetteporcelijn.com/nl/\n"
   ]
  },
  {
   "cell_type": "code",
   "execution_count": null,
   "metadata": {},
   "outputs": [],
   "source": [
    "https://www.kaggle.com/unitednations/international-greenhouse-gas-emissions\n",
    "    \n",
    "CO2 EMMISION DATA SET PER YEAR PER COUNTRY \n",
    "http://data.un.org/Data.aspx?d=GHG&f=seriesID%3aCO2\n",
    "    \n",
    "CO2 SOURCES - COAL, GASS ETC \n",
    "https://www.kaggle.com/berhag/co2emissions\n",
    "    \n",
    "AVIATION STATS - AMOUND OF AIRPLANES AND TRAVELED MILES \n",
    "https://www.kaggle.com/shellshock1911/us-commercial-aviation-industry-metrics\n",
    "    \n",
    "    \n"
   ]
  },
  {
   "cell_type": "code",
   "execution_count": null,
   "metadata": {},
   "outputs": [],
   "source": [
    "Articles \n",
    "\n",
    "EMMISION IMPACT OF FOOD \n",
    "https://www.bbc.com/news/science-environment-46459714\n",
    "    \n",
    "IMPACT OF AVIATION    \n",
    "https://www.theguardian.com/environment/ng-interactive/2019/jul/19/carbon-calculator-how-taking-one-flight-emits-as-much-as-many-people-do-in-a-year\n",
    "CO2 CALCULATION PER FLIGHT \n",
    "https://www.atmosfair.de \n",
    "\n",
    "Eating certain meats is about the worst thing you can do to the planet\n",
    "https://www.theguardian.com/commentisfree/2015/dec/22/festive-christmas-meal-long-haul-flight-meats-damaging-planet\n"
   ]
  },
  {
   "cell_type": "code",
   "execution_count": null,
   "metadata": {},
   "outputs": [],
   "source": [
    "VISUALISATION \n",
    "\n",
    "https://kepler.gl/\n",
    "    \n",
    "https://plot.ly/"
   ]
  },
  {
   "cell_type": "code",
   "execution_count": null,
   "metadata": {},
   "outputs": [],
   "source": [
    "punten aspecten van een kwalitatief leven \n",
    "\n",
    "punten aspecten van co2 "
   ]
  },
  {
   "cell_type": "code",
   "execution_count": null,
   "metadata": {},
   "outputs": [],
   "source": [
    "beschrijvende statetesiek \n",
    "\n",
    "--> welke zinvolle indelingen per groep kun je maken \n",
    "    --> leeftijd en vliegen\n",
    "    --> inkomen en vliegen \n",
    "    --> commercieel / prive en vliegen \n",
    "    \n",
    "wat zijn de grootgebruikers van vliegen \n",
    "en waarom vliegen zij ( de keuze van het vliegen) \n",
    "wat lossem zij op \n",
    "\n",
    "--> bergelijken in groepen ( 2 gelijken groepen met verschillende factoren)\n",
    "\n",
    "obv data personas maken --> klusters (klassen / patronen) --> zoekt \n",
    "deepdive in gedrag obv data \n",
    "\n"
   ]
  },
  {
   "cell_type": "code",
   "execution_count": null,
   "metadata": {},
   "outputs": [],
   "source": [
    "\n"
   ]
  }
 ],
 "metadata": {
  "kernelspec": {
   "display_name": "Python 3",
   "language": "python",
   "name": "python3"
  },
  "language_info": {
   "codemirror_mode": {
    "name": "ipython",
    "version": 3
   },
   "file_extension": ".py",
   "mimetype": "text/x-python",
   "name": "python",
   "nbconvert_exporter": "python",
   "pygments_lexer": "ipython3",
   "version": "3.7.4"
  }
 },
 "nbformat": 4,
 "nbformat_minor": 2
}
