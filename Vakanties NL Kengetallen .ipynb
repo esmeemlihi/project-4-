{
 "cells": [
  {
   "cell_type": "code",
   "execution_count": 26,
   "metadata": {},
   "outputs": [
    {
     "data": {
      "text/html": [
       "        <script type=\"text/javascript\">\n",
       "        window.PlotlyConfig = {MathJaxConfig: 'local'};\n",
       "        if (window.MathJax) {MathJax.Hub.Config({SVG: {font: \"STIX-Web\"}});}\n",
       "        if (typeof require !== 'undefined') {\n",
       "        require.undef(\"plotly\");\n",
       "        requirejs.config({\n",
       "            paths: {\n",
       "                'plotly': ['https://cdn.plot.ly/plotly-latest.min']\n",
       "            }\n",
       "        });\n",
       "        require(['plotly'], function(Plotly) {\n",
       "            window._Plotly = Plotly;\n",
       "        });\n",
       "        }\n",
       "        </script>\n",
       "        "
      ]
     },
     "metadata": {},
     "output_type": "display_data"
    },
    {
     "name": "stdout",
     "output_type": "stream",
     "text": [
      "Bestemming en seizoen                     object\n",
      "Vakantiekenmerken                         object\n",
      "Perioden                                  object\n",
      "Deelname/Totaal Nederlanders (x 1 000)    object\n",
      "Vakanties/Totaal (x 1 000)                object\n",
      "Vakantiedagen/Totaal (mln )               object\n",
      "Overnachtingen/Totaal (mln )              object\n",
      "Uitgaven/Totaal (mln euro)                object\n",
      "dtype: object\n"
     ]
    },
    {
     "data": {
      "text/html": [
       "<div>\n",
       "<style scoped>\n",
       "    .dataframe tbody tr th:only-of-type {\n",
       "        vertical-align: middle;\n",
       "    }\n",
       "\n",
       "    .dataframe tbody tr th {\n",
       "        vertical-align: top;\n",
       "    }\n",
       "\n",
       "    .dataframe thead th {\n",
       "        text-align: right;\n",
       "    }\n",
       "</style>\n",
       "<table border=\"1\" class=\"dataframe\">\n",
       "  <thead>\n",
       "    <tr style=\"text-align: right;\">\n",
       "      <th></th>\n",
       "      <th>Bestemming en seizoen</th>\n",
       "      <th>Vakantiekenmerken</th>\n",
       "      <th>Perioden</th>\n",
       "      <th>Deelname/Totaal Nederlanders (x 1 000)</th>\n",
       "      <th>Vakanties/Totaal (x 1 000)</th>\n",
       "      <th>Vakantiedagen/Totaal (mln )</th>\n",
       "      <th>Overnachtingen/Totaal (mln )</th>\n",
       "      <th>Uitgaven/Totaal (mln euro)</th>\n",
       "    </tr>\n",
       "  </thead>\n",
       "  <tbody>\n",
       "    <tr>\n",
       "      <td>0</td>\n",
       "      <td>Totaal vakanties</td>\n",
       "      <td>Totaal vakanties</td>\n",
       "      <td>2017*</td>\n",
       "      <td>14084</td>\n",
       "      <td>41252</td>\n",
       "      <td>364.9</td>\n",
       "      <td>323.6</td>\n",
       "      <td>20637</td>\n",
       "    </tr>\n",
       "    <tr>\n",
       "      <td>1</td>\n",
       "      <td>Totaal vakanties</td>\n",
       "      <td>Totaal vakanties</td>\n",
       "      <td>2018*</td>\n",
       "      <td>14124</td>\n",
       "      <td>40854</td>\n",
       "      <td>366.9</td>\n",
       "      <td>326.1</td>\n",
       "      <td>21338</td>\n",
       "    </tr>\n",
       "    <tr>\n",
       "      <td>2</td>\n",
       "      <td>Totaal vakanties</td>\n",
       "      <td>Accommodatie: hotel, pension, B&amp;B</td>\n",
       "      <td>2017*</td>\n",
       "      <td>7642</td>\n",
       "      <td>14565</td>\n",
       "      <td>101.3</td>\n",
       "      <td>86.8</td>\n",
       "      <td>9900</td>\n",
       "    </tr>\n",
       "  </tbody>\n",
       "</table>\n",
       "</div>"
      ],
      "text/plain": [
       "  Bestemming en seizoen                  Vakantiekenmerken Perioden  \\\n",
       "0      Totaal vakanties                   Totaal vakanties    2017*   \n",
       "1      Totaal vakanties                   Totaal vakanties    2018*   \n",
       "2      Totaal vakanties  Accommodatie: hotel, pension, B&B    2017*   \n",
       "\n",
       "  Deelname/Totaal Nederlanders (x 1 000) Vakanties/Totaal (x 1 000)  \\\n",
       "0                                  14084                      41252   \n",
       "1                                  14124                      40854   \n",
       "2                                   7642                      14565   \n",
       "\n",
       "  Vakantiedagen/Totaal (mln ) Overnachtingen/Totaal (mln )  \\\n",
       "0                       364.9                        323.6   \n",
       "1                       366.9                        326.1   \n",
       "2                       101.3                         86.8   \n",
       "\n",
       "  Uitgaven/Totaal (mln euro)  \n",
       "0                      20637  \n",
       "1                      21338  \n",
       "2                       9900  "
      ]
     },
     "execution_count": 26,
     "metadata": {},
     "output_type": "execute_result"
    }
   ],
   "source": [
    "''' DATA BRON CBS: https://opendata.cbs.nl/statline/#/CBS/nl/dataset/84363NED/table?ts=1572538836120'''\n",
    "import re\n",
    "import numpy as np\n",
    "import pandas as pd\n",
    "%matplotlib inline\n",
    "import matplotlib.pyplot as plt\n",
    "import seaborn as sns\n",
    "import chart_studio.plotly as py\n",
    "import cufflinks as cf\n",
    "cf.go_offline()\n",
    "\n",
    "nlvakanties = pd.read_csv(\"csv/cbs_vakantie.csv\", sep = ';')\n",
    "print(nlvakanties.dtypes)\n",
    "nlvakanties.head(3)"
   ]
  },
  {
   "cell_type": "code",
   "execution_count": 27,
   "metadata": {},
   "outputs": [
    {
     "data": {
      "text/html": [
       "<div>\n",
       "<style scoped>\n",
       "    .dataframe tbody tr th:only-of-type {\n",
       "        vertical-align: middle;\n",
       "    }\n",
       "\n",
       "    .dataframe tbody tr th {\n",
       "        vertical-align: top;\n",
       "    }\n",
       "\n",
       "    .dataframe thead th {\n",
       "        text-align: right;\n",
       "    }\n",
       "</style>\n",
       "<table border=\"1\" class=\"dataframe\">\n",
       "  <thead>\n",
       "    <tr style=\"text-align: right;\">\n",
       "      <th></th>\n",
       "      <th>Bestemming en seizoen</th>\n",
       "      <th>Vakantiekenmerken</th>\n",
       "      <th>Perioden</th>\n",
       "      <th>Deelname/Totaal Nederlanders</th>\n",
       "      <th>Vakanties/Totaal</th>\n",
       "      <th>Vakantiedagen/Totaal</th>\n",
       "      <th>Overnachtingen/Totaal</th>\n",
       "      <th>Uitgaven/Totaal</th>\n",
       "    </tr>\n",
       "  </thead>\n",
       "  <tbody>\n",
       "    <tr>\n",
       "      <td>0</td>\n",
       "      <td>Totaal vakanties</td>\n",
       "      <td>Totaal vakanties</td>\n",
       "      <td>2017</td>\n",
       "      <td>14084000</td>\n",
       "      <td>41252000</td>\n",
       "      <td>36409000000</td>\n",
       "      <td>32306000000</td>\n",
       "      <td>20637000000</td>\n",
       "    </tr>\n",
       "    <tr>\n",
       "      <td>1</td>\n",
       "      <td>Totaal vakanties</td>\n",
       "      <td>Totaal vakanties</td>\n",
       "      <td>2018</td>\n",
       "      <td>14124000</td>\n",
       "      <td>40854000</td>\n",
       "      <td>36609000000</td>\n",
       "      <td>32601000000</td>\n",
       "      <td>21338000000</td>\n",
       "    </tr>\n",
       "    <tr>\n",
       "      <td>2</td>\n",
       "      <td>Totaal vakanties</td>\n",
       "      <td>Accommodatie: hotel, pension, B&amp;B</td>\n",
       "      <td>2017</td>\n",
       "      <td>7642000</td>\n",
       "      <td>14565000</td>\n",
       "      <td>10103000000</td>\n",
       "      <td>8608000000</td>\n",
       "      <td>9900000000</td>\n",
       "    </tr>\n",
       "    <tr>\n",
       "      <td>3</td>\n",
       "      <td>Totaal vakanties</td>\n",
       "      <td>Accommodatie: hotel, pension, B&amp;B</td>\n",
       "      <td>2018</td>\n",
       "      <td>7770000</td>\n",
       "      <td>14517000</td>\n",
       "      <td>10401000000</td>\n",
       "      <td>8906000000</td>\n",
       "      <td>10300000000</td>\n",
       "    </tr>\n",
       "    <tr>\n",
       "      <td>4</td>\n",
       "      <td>Totaal vakanties</td>\n",
       "      <td>Accommodatie: vakantiehuis, stacaravan</td>\n",
       "      <td>2017</td>\n",
       "      <td>6341000</td>\n",
       "      <td>11740000</td>\n",
       "      <td>9808000000</td>\n",
       "      <td>8701000000</td>\n",
       "      <td>3555000000</td>\n",
       "    </tr>\n",
       "    <tr>\n",
       "      <td>...</td>\n",
       "      <td>...</td>\n",
       "      <td>...</td>\n",
       "      <td>...</td>\n",
       "      <td>...</td>\n",
       "      <td>...</td>\n",
       "      <td>...</td>\n",
       "      <td>...</td>\n",
       "      <td>...</td>\n",
       "    </tr>\n",
       "    <tr>\n",
       "      <td>375</td>\n",
       "      <td>Winterseizoen</td>\n",
       "      <td>Vervoerwijze: vliegtuig</td>\n",
       "      <td>2018</td>\n",
       "      <td>3303000</td>\n",
       "      <td>4381000</td>\n",
       "      <td>5106000000</td>\n",
       "      <td>4702000000</td>\n",
       "      <td>4716000000</td>\n",
       "    </tr>\n",
       "    <tr>\n",
       "      <td>376</td>\n",
       "      <td>Winterseizoen</td>\n",
       "      <td>Vervoerwijze: trein</td>\n",
       "      <td>2017</td>\n",
       "      <td>665000</td>\n",
       "      <td>844000</td>\n",
       "      <td>305000000</td>\n",
       "      <td>207000000</td>\n",
       "      <td>218000000</td>\n",
       "    </tr>\n",
       "    <tr>\n",
       "      <td>377</td>\n",
       "      <td>Winterseizoen</td>\n",
       "      <td>Vervoerwijze: trein</td>\n",
       "      <td>2018</td>\n",
       "      <td>648000</td>\n",
       "      <td>825000</td>\n",
       "      <td>306000000</td>\n",
       "      <td>208000000</td>\n",
       "      <td>270000000</td>\n",
       "    </tr>\n",
       "    <tr>\n",
       "      <td>378</td>\n",
       "      <td>Winterseizoen</td>\n",
       "      <td>Vervoerwijze: overige</td>\n",
       "      <td>2017</td>\n",
       "      <td>718000</td>\n",
       "      <td>905000</td>\n",
       "      <td>601000000</td>\n",
       "      <td>502000000</td>\n",
       "      <td>291000000</td>\n",
       "    </tr>\n",
       "    <tr>\n",
       "      <td>379</td>\n",
       "      <td>Winterseizoen</td>\n",
       "      <td>Vervoerwijze: overige</td>\n",
       "      <td>2018</td>\n",
       "      <td>656000</td>\n",
       "      <td>851000</td>\n",
       "      <td>509000000</td>\n",
       "      <td>500000000</td>\n",
       "      <td>324000000</td>\n",
       "    </tr>\n",
       "  </tbody>\n",
       "</table>\n",
       "<p>380 rows × 8 columns</p>\n",
       "</div>"
      ],
      "text/plain": [
       "    Bestemming en seizoen                       Vakantiekenmerken  Perioden  \\\n",
       "0        Totaal vakanties                        Totaal vakanties      2017   \n",
       "1        Totaal vakanties                        Totaal vakanties      2018   \n",
       "2        Totaal vakanties       Accommodatie: hotel, pension, B&B      2017   \n",
       "3        Totaal vakanties       Accommodatie: hotel, pension, B&B      2018   \n",
       "4        Totaal vakanties  Accommodatie: vakantiehuis, stacaravan      2017   \n",
       "..                    ...                                     ...       ...   \n",
       "375         Winterseizoen                 Vervoerwijze: vliegtuig      2018   \n",
       "376         Winterseizoen                     Vervoerwijze: trein      2017   \n",
       "377         Winterseizoen                     Vervoerwijze: trein      2018   \n",
       "378         Winterseizoen                  Vervoerwijze: overige       2017   \n",
       "379         Winterseizoen                  Vervoerwijze: overige       2018   \n",
       "\n",
       "     Deelname/Totaal Nederlanders  Vakanties/Totaal  Vakantiedagen/Totaal  \\\n",
       "0                        14084000          41252000           36409000000   \n",
       "1                        14124000          40854000           36609000000   \n",
       "2                         7642000          14565000           10103000000   \n",
       "3                         7770000          14517000           10401000000   \n",
       "4                         6341000          11740000            9808000000   \n",
       "..                            ...               ...                   ...   \n",
       "375                       3303000           4381000            5106000000   \n",
       "376                        665000            844000             305000000   \n",
       "377                        648000            825000             306000000   \n",
       "378                        718000            905000             601000000   \n",
       "379                        656000            851000             509000000   \n",
       "\n",
       "     Overnachtingen/Totaal  Uitgaven/Totaal  \n",
       "0              32306000000      20637000000  \n",
       "1              32601000000      21338000000  \n",
       "2               8608000000       9900000000  \n",
       "3               8906000000      10300000000  \n",
       "4               8701000000       3555000000  \n",
       "..                     ...              ...  \n",
       "375             4702000000       4716000000  \n",
       "376              207000000        218000000  \n",
       "377              208000000        270000000  \n",
       "378              502000000        291000000  \n",
       "379              500000000        324000000  \n",
       "\n",
       "[380 rows x 8 columns]"
      ]
     },
     "execution_count": 27,
     "metadata": {},
     "output_type": "execute_result"
    }
   ],
   "source": [
    "'''DATA CLEANING - FROM OBJECTS NAAR INT'''\n",
    "\n",
    "def float_cleaning(column_name):\n",
    "    \n",
    "    temp_2 = list(nlvakanties[column_name])\n",
    "    pattern = '[0-9.]+|[.]'\n",
    "    temp_3 = list(re.findall(pattern, str(temp_2)))\n",
    "    temp_4 = [number.replace('.', '0') for number in temp_3]\n",
    "    nlvakanties[column_name]= temp_4\n",
    "    nlvakanties[column_name]= nlvakanties[column_name].astype('int')\n",
    "    return nlvakanties\n",
    "\n",
    "columns = ['Bestemming en seizoen', 'Vakantiekenmerken', 'Perioden','Deelname/Totaal Nederlanders (x 1 000)', \n",
    "           'Vakanties/Totaal (x 1 000)','Vakantiedagen/Totaal (mln )', 'Overnachtingen/Totaal (mln )',\n",
    "           'Uitgaven/Totaal (mln euro)']\n",
    "\n",
    "nlvakanties = float_cleaning(\"Perioden\")\n",
    "\n",
    "for el in columns[3:5]:\n",
    "    nlvakanties = float_cleaning(el)\n",
    "    nlvakanties[el] = nlvakanties[el]*1000\n",
    "\n",
    "for el in columns[5:8]:\n",
    "    nlvakanties = float_cleaning(el)\n",
    "    nlvakanties[el] = nlvakanties[el]*1000000\n",
    "\n",
    "new_colums = ['Bestemming en seizoen', 'Vakantiekenmerken', 'Perioden','Deelname/Totaal Nederlanders', \n",
    "           'Vakanties/Totaal','Vakantiedagen/Totaal', 'Overnachtingen/Totaal','Uitgaven/Totaal']\n",
    "\n",
    "nlvakanties.columns = new_colums\n",
    "nlvakanties"
   ]
  },
  {
   "cell_type": "code",
   "execution_count": 77,
   "metadata": {},
   "outputs": [
    {
     "data": {
      "text/html": [
       "<div>\n",
       "<style scoped>\n",
       "    .dataframe tbody tr th:only-of-type {\n",
       "        vertical-align: middle;\n",
       "    }\n",
       "\n",
       "    .dataframe tbody tr th {\n",
       "        vertical-align: top;\n",
       "    }\n",
       "\n",
       "    .dataframe thead th {\n",
       "        text-align: right;\n",
       "    }\n",
       "</style>\n",
       "<table border=\"1\" class=\"dataframe\">\n",
       "  <thead>\n",
       "    <tr style=\"text-align: right;\">\n",
       "      <th></th>\n",
       "      <th>Bestemming en seizoen</th>\n",
       "      <th>Vakantiekenmerken</th>\n",
       "      <th>Perioden</th>\n",
       "      <th>Deelname/Totaal Nederlanders (x 1 000)</th>\n",
       "      <th>Vakanties/Totaal (x 1 000)</th>\n",
       "      <th>Vakantiedagen/Totaal (mln )</th>\n",
       "      <th>Overnachtingen/Totaal (mln )</th>\n",
       "      <th>Uitgaven/Totaal (mln euro)</th>\n",
       "    </tr>\n",
       "  </thead>\n",
       "  <tbody>\n",
       "    <tr>\n",
       "      <td>68</td>\n",
       "      <td>Totaal vakanties</td>\n",
       "      <td>Vervoerwijze: auto</td>\n",
       "      <td>2017</td>\n",
       "      <td>11152000</td>\n",
       "      <td>26920000</td>\n",
       "      <td>20809</td>\n",
       "      <td>18109</td>\n",
       "      <td>7795</td>\n",
       "    </tr>\n",
       "    <tr>\n",
       "      <td>69</td>\n",
       "      <td>Totaal vakanties</td>\n",
       "      <td>Vervoerwijze: auto</td>\n",
       "      <td>2018</td>\n",
       "      <td>11210000</td>\n",
       "      <td>26390000</td>\n",
       "      <td>20903</td>\n",
       "      <td>18209</td>\n",
       "      <td>8085</td>\n",
       "    </tr>\n",
       "    <tr>\n",
       "      <td>70</td>\n",
       "      <td>Totaal vakanties</td>\n",
       "      <td>Vervoerwijze: vliegtuig</td>\n",
       "      <td>2017</td>\n",
       "      <td>6351000</td>\n",
       "      <td>10114000</td>\n",
       "      <td>12505</td>\n",
       "      <td>11504</td>\n",
       "      <td>11203</td>\n",
       "    </tr>\n",
       "    <tr>\n",
       "      <td>71</td>\n",
       "      <td>Totaal vakanties</td>\n",
       "      <td>Vervoerwijze: vliegtuig</td>\n",
       "      <td>2018</td>\n",
       "      <td>6490000</td>\n",
       "      <td>10322000</td>\n",
       "      <td>12705</td>\n",
       "      <td>11702</td>\n",
       "      <td>11455</td>\n",
       "    </tr>\n",
       "    <tr>\n",
       "      <td>72</td>\n",
       "      <td>Totaal vakanties</td>\n",
       "      <td>Vervoerwijze: trein</td>\n",
       "      <td>2017</td>\n",
       "      <td>1223000</td>\n",
       "      <td>1742000</td>\n",
       "      <td>808</td>\n",
       "      <td>701</td>\n",
       "      <td>558</td>\n",
       "    </tr>\n",
       "  </tbody>\n",
       "</table>\n",
       "</div>"
      ],
      "text/plain": [
       "   Bestemming en seizoen        Vakantiekenmerken  Perioden  \\\n",
       "68      Totaal vakanties       Vervoerwijze: auto      2017   \n",
       "69      Totaal vakanties       Vervoerwijze: auto      2018   \n",
       "70      Totaal vakanties  Vervoerwijze: vliegtuig      2017   \n",
       "71      Totaal vakanties  Vervoerwijze: vliegtuig      2018   \n",
       "72      Totaal vakanties      Vervoerwijze: trein      2017   \n",
       "\n",
       "    Deelname/Totaal Nederlanders (x 1 000)  Vakanties/Totaal (x 1 000)  \\\n",
       "68                                11152000                    26920000   \n",
       "69                                11210000                    26390000   \n",
       "70                                 6351000                    10114000   \n",
       "71                                 6490000                    10322000   \n",
       "72                                 1223000                     1742000   \n",
       "\n",
       "    Vakantiedagen/Totaal (mln )  Overnachtingen/Totaal (mln )  \\\n",
       "68                        20809                         18109   \n",
       "69                        20903                         18209   \n",
       "70                        12505                         11504   \n",
       "71                        12705                         11702   \n",
       "72                          808                           701   \n",
       "\n",
       "    Uitgaven/Totaal (mln euro)  \n",
       "68                        7795  \n",
       "69                        8085  \n",
       "70                       11203  \n",
       "71                       11455  \n",
       "72                         558  "
      ]
     },
     "execution_count": 77,
     "metadata": {},
     "output_type": "execute_result"
    }
   ],
   "source": [
    "''' REALTIE 1: Vervoer met Bestemming en seizoen'''\n",
    "\n",
    "Vervoer_met_Bestemming_Seizoen= nlvakanties[nlvakanties.Vakantiekenmerken.str.match(pat = 'Ver[a-z]')]\n",
    "Vervoer_met_Bestemming_Seizoen.head()"
   ]
  },
  {
   "cell_type": "code",
   "execution_count": 35,
   "metadata": {},
   "outputs": [
    {
     "name": "stdout",
     "output_type": "stream",
     "text": [
      "MENSEN ACCOMODATIE\n",
      "MENSEN ORGANISTATIE\n",
      "MENSEN SOORT\n",
      "MENSEN VAKANTIEDUUR\n",
      "VAKANTIES ACCOMODATIE\n",
      "VAKANTIES ORGANISTATIE\n",
      "VAKANTIES SOORT\n",
      "VAKANTIES VAKANTIEDUUR\n",
      "VAKANIEDAGEN ACCOMODATIE\n",
      "VAKANIEDAGEN ORGANISTATIE\n",
      "VAKANIEDAGEN SOORT\n",
      "VAKANIEDAGEN VAKANTIEDUUR\n",
      "NACHTEN ACCOMODATIE\n",
      "NACHTEN ORGANISTATIE\n",
      "NACHTEN SOORT\n",
      "NACHTEN VAKANTIEDUUR\n",
      "KOSTEN ACCOMODATIE\n",
      "KOSTEN ORGANISTATIE\n",
      "KOSTEN SOORT\n",
      "KOSTEN VAKANTIEDUUR\n"
     ]
    }
   ],
   "source": [
    "''' RELATIE 2: Functie om de realties tussen vervoer en vakantiekenmerk weer te geven'''\n",
    "\n",
    "def pivot_regex (value, regex):\n",
    "    reis_kenmerk = nlvakanties.pivot_table(values=[value],\n",
    "                     index=['Vakantiekenmerken'],\n",
    "                     columns=['Bestemming en seizoen'], \n",
    "                     aggfunc=np.sum)\n",
    "    reis_kenmerk = reis_kenmerk.reset_index()\n",
    "    return reis_kenmerk[reis_kenmerk.Vakantiekenmerken.str.match(pat = regex)]\n",
    "\n",
    "\n",
    "# ER ZIJN 5 HOOFTTHEMAS NUMMERS EN 4 SUB VAKANTIE KENMERKEN IN CATEGORIEEN\n",
    "thema_dict = {'MENSEN':'Deelname/Totaal Nederlanders', \n",
    "               'VAKANTIES':'Vakanties/Totaal',\n",
    "               'VAKANIEDAGEN':'Vakantiedagen/Totaal',\n",
    "               'NACHTEN':'Overnachtingen/Totaal',\n",
    "               'KOSTEN':'Uitgaven/Totaal'}\n",
    "\n",
    "# EN HET VERVOERSKEKENMERK ZIT OVERAL IN (Ver[a-z])\n",
    "regex_dict = {'ACCOMODATIE':'Ver[a-z]|A[a-z]',\n",
    "               'ORGANISTATIE': 'Ver[a-z]|Org[a-z]', \n",
    "               'SOORT': 'Ver[a-z]|Soo[a-z]', \n",
    "               'VAKANTIEDUUR':'Ver[a-z]|Va[a-z]'}\n",
    "\n",
    "data_dict ={}\n",
    "for key in thema_dict:\n",
    "    for sleutel in regex_dict:\n",
    "        print(key, sleutel)\n",
    "        data_dict[key, sleutel] = pivot_regex(thema_dict[key], regex_dict[sleutel])"
   ]
  },
  {
   "cell_type": "code",
   "execution_count": 32,
   "metadata": {},
   "outputs": [
    {
     "data": {
      "text/html": [
       "<div>\n",
       "<style scoped>\n",
       "    .dataframe tbody tr th:only-of-type {\n",
       "        vertical-align: middle;\n",
       "    }\n",
       "\n",
       "    .dataframe tbody tr th {\n",
       "        vertical-align: top;\n",
       "    }\n",
       "\n",
       "    .dataframe thead tr th {\n",
       "        text-align: left;\n",
       "    }\n",
       "</style>\n",
       "<table border=\"1\" class=\"dataframe\">\n",
       "  <thead>\n",
       "    <tr>\n",
       "      <th></th>\n",
       "      <th>Vakantiekenmerken</th>\n",
       "      <th colspan=\"5\" halign=\"left\">Deelname/Totaal Nederlanders</th>\n",
       "    </tr>\n",
       "    <tr>\n",
       "      <th>Bestemming en seizoen</th>\n",
       "      <th></th>\n",
       "      <th>Totaal vakanties</th>\n",
       "      <th>Vakantiebestemming: Nederland</th>\n",
       "      <th>Vakantiebestemming: buitenland</th>\n",
       "      <th>Winterseizoen</th>\n",
       "      <th>Zomerseizoen</th>\n",
       "    </tr>\n",
       "  </thead>\n",
       "  <tbody>\n",
       "    <tr>\n",
       "      <td>29</td>\n",
       "      <td>Vakantieduur: 16 of meer dagen</td>\n",
       "      <td>9756000</td>\n",
       "      <td>1800000</td>\n",
       "      <td>8179000</td>\n",
       "      <td>2304000</td>\n",
       "      <td>8298000</td>\n",
       "    </tr>\n",
       "    <tr>\n",
       "      <td>30</td>\n",
       "      <td>Vakantieduur: 2 tot 5 dagen (kort)</td>\n",
       "      <td>15063000</td>\n",
       "      <td>11330000</td>\n",
       "      <td>6402000</td>\n",
       "      <td>10419000</td>\n",
       "      <td>9125000</td>\n",
       "    </tr>\n",
       "    <tr>\n",
       "      <td>31</td>\n",
       "      <td>Vakantieduur: 5 of meer dagen (lang)</td>\n",
       "      <td>25883000</td>\n",
       "      <td>10824000</td>\n",
       "      <td>20595000</td>\n",
       "      <td>12953000</td>\n",
       "      <td>23265000</td>\n",
       "    </tr>\n",
       "    <tr>\n",
       "      <td>32</td>\n",
       "      <td>Vakantieduur: 5 tot 9 dagen</td>\n",
       "      <td>16355000</td>\n",
       "      <td>8336000</td>\n",
       "      <td>10188000</td>\n",
       "      <td>8808000</td>\n",
       "      <td>11028000</td>\n",
       "    </tr>\n",
       "    <tr>\n",
       "      <td>33</td>\n",
       "      <td>Vakantieduur: 9 tot 16 dagen</td>\n",
       "      <td>12026000</td>\n",
       "      <td>2692000</td>\n",
       "      <td>9882000</td>\n",
       "      <td>4072000</td>\n",
       "      <td>9344000</td>\n",
       "    </tr>\n",
       "    <tr>\n",
       "      <td>34</td>\n",
       "      <td>Vervoerwijze: auto</td>\n",
       "      <td>22362000</td>\n",
       "      <td>16194000</td>\n",
       "      <td>12828000</td>\n",
       "      <td>13589000</td>\n",
       "      <td>18711000</td>\n",
       "    </tr>\n",
       "    <tr>\n",
       "      <td>35</td>\n",
       "      <td>Vervoerwijze: overige</td>\n",
       "      <td>3313000</td>\n",
       "      <td>1530000</td>\n",
       "      <td>2057000</td>\n",
       "      <td>1374000</td>\n",
       "      <td>2311000</td>\n",
       "    </tr>\n",
       "    <tr>\n",
       "      <td>36</td>\n",
       "      <td>Vervoerwijze: trein</td>\n",
       "      <td>2444000</td>\n",
       "      <td>1528000</td>\n",
       "      <td>1077000</td>\n",
       "      <td>1313000</td>\n",
       "      <td>1419000</td>\n",
       "    </tr>\n",
       "    <tr>\n",
       "      <td>37</td>\n",
       "      <td>Vervoerwijze: vliegtuig</td>\n",
       "      <td>12841000</td>\n",
       "      <td>0</td>\n",
       "      <td>12841000</td>\n",
       "      <td>6807000</td>\n",
       "      <td>9353000</td>\n",
       "    </tr>\n",
       "  </tbody>\n",
       "</table>\n",
       "</div>"
      ],
      "text/plain": [
       "                                          Vakantiekenmerken  \\\n",
       "Bestemming en seizoen                                         \n",
       "29                           Vakantieduur: 16 of meer dagen   \n",
       "30                       Vakantieduur: 2 tot 5 dagen (kort)   \n",
       "31                     Vakantieduur: 5 of meer dagen (lang)   \n",
       "32                              Vakantieduur: 5 tot 9 dagen   \n",
       "33                             Vakantieduur: 9 tot 16 dagen   \n",
       "34                                       Vervoerwijze: auto   \n",
       "35                                   Vervoerwijze: overige    \n",
       "36                                      Vervoerwijze: trein   \n",
       "37                                  Vervoerwijze: vliegtuig   \n",
       "\n",
       "                      Deelname/Totaal Nederlanders  \\\n",
       "Bestemming en seizoen             Totaal vakanties   \n",
       "29                                         9756000   \n",
       "30                                        15063000   \n",
       "31                                        25883000   \n",
       "32                                        16355000   \n",
       "33                                        12026000   \n",
       "34                                        22362000   \n",
       "35                                         3313000   \n",
       "36                                         2444000   \n",
       "37                                        12841000   \n",
       "\n",
       "                                                     \\\n",
       "Bestemming en seizoen Vakantiebestemming: Nederland   \n",
       "29                                          1800000   \n",
       "30                                         11330000   \n",
       "31                                         10824000   \n",
       "32                                          8336000   \n",
       "33                                          2692000   \n",
       "34                                         16194000   \n",
       "35                                          1530000   \n",
       "36                                          1528000   \n",
       "37                                                0   \n",
       "\n",
       "                                                                    \\\n",
       "Bestemming en seizoen Vakantiebestemming: buitenland Winterseizoen   \n",
       "29                                           8179000       2304000   \n",
       "30                                           6402000      10419000   \n",
       "31                                          20595000      12953000   \n",
       "32                                          10188000       8808000   \n",
       "33                                           9882000       4072000   \n",
       "34                                          12828000      13589000   \n",
       "35                                           2057000       1374000   \n",
       "36                                           1077000       1313000   \n",
       "37                                          12841000       6807000   \n",
       "\n",
       "                                    \n",
       "Bestemming en seizoen Zomerseizoen  \n",
       "29                         8298000  \n",
       "30                         9125000  \n",
       "31                        23265000  \n",
       "32                        11028000  \n",
       "33                         9344000  \n",
       "34                        18711000  \n",
       "35                         2311000  \n",
       "36                         1419000  \n",
       "37                         9353000  "
      ]
     },
     "execution_count": 32,
     "metadata": {},
     "output_type": "execute_result"
    }
   ],
   "source": [
    "'''PLOTTING PHASE'''"
   ]
  },
  {
   "cell_type": "code",
   "execution_count": 89,
   "metadata": {},
   "outputs": [
    {
     "name": "stderr",
     "output_type": "stream",
     "text": [
      "/usr/local/lib/python3.7/site-packages/ipykernel_launcher.py:4: UserWarning:\n",
      "\n",
      "Pandas doesn't allow columns to be created via a new attribute name - see https://pandas.pydata.org/pandas-docs/stable/indexing.html#attribute-access\n",
      "\n"
     ]
    },
    {
     "data": {
      "text/html": [
       "<div>\n",
       "<style scoped>\n",
       "    .dataframe tbody tr th:only-of-type {\n",
       "        vertical-align: middle;\n",
       "    }\n",
       "\n",
       "    .dataframe tbody tr th {\n",
       "        vertical-align: top;\n",
       "    }\n",
       "\n",
       "    .dataframe thead th {\n",
       "        text-align: right;\n",
       "    }\n",
       "</style>\n",
       "<table border=\"1\" class=\"dataframe\">\n",
       "  <thead>\n",
       "    <tr style=\"text-align: right;\">\n",
       "      <th></th>\n",
       "      <th>Bestemming en seizoen</th>\n",
       "      <th>2-5</th>\n",
       "      <th>5-9</th>\n",
       "      <th>9-16</th>\n",
       "      <th>5+</th>\n",
       "      <th>16+</th>\n",
       "      <th>Car</th>\n",
       "      <th>Airplane</th>\n",
       "      <th>Train</th>\n",
       "      <th>Other</th>\n",
       "    </tr>\n",
       "  </thead>\n",
       "  <tbody>\n",
       "    <tr>\n",
       "      <td>0</td>\n",
       "      <td>Totaal vakanties</td>\n",
       "      <td>15063000</td>\n",
       "      <td>16355000</td>\n",
       "      <td>12026000</td>\n",
       "      <td>25883000</td>\n",
       "      <td>9756000</td>\n",
       "      <td>22362000</td>\n",
       "      <td>12841000</td>\n",
       "      <td>2444000</td>\n",
       "      <td>3313000</td>\n",
       "    </tr>\n",
       "    <tr>\n",
       "      <td>1</td>\n",
       "      <td>Vakantiebestemming: Nederland</td>\n",
       "      <td>11330000</td>\n",
       "      <td>8336000</td>\n",
       "      <td>2692000</td>\n",
       "      <td>10824000</td>\n",
       "      <td>1800000</td>\n",
       "      <td>16194000</td>\n",
       "      <td>0</td>\n",
       "      <td>1528000</td>\n",
       "      <td>1530000</td>\n",
       "    </tr>\n",
       "  </tbody>\n",
       "</table>\n",
       "</div>"
      ],
      "text/plain": [
       "           Bestemming en seizoen       2-5       5-9      9-16        5+  \\\n",
       "0               Totaal vakanties  15063000  16355000  12026000  25883000   \n",
       "1  Vakantiebestemming: Nederland  11330000   8336000   2692000  10824000   \n",
       "\n",
       "       16+       Car  Airplane    Train    Other  \n",
       "0  9756000  22362000  12841000  2444000  3313000  \n",
       "1  1800000  16194000         0  1528000  1530000  "
      ]
     },
     "execution_count": 89,
     "metadata": {},
     "output_type": "execute_result"
    }
   ],
   "source": [
    "MENSEN_VAKANTIEDUUR = data_dict['MENSEN', 'VAKANTIEDUUR']\n",
    "MENSEN_VAKANTIEDUUR = MENSEN_VAKANTIEDUUR.set_index(MENSEN_VAKANTIEDUUR.Vakantiekenmerken)[\"Deelname/Totaal Nederlanders\"]\n",
    "MENSEN_VAKANTIEDUUR = MENSEN_VAKANTIEDUUR.T.reset_index()\n",
    "MENSEN_VAKANTIEDUUR.Col = ['Bestemming en seizoen', '16+','2-5','5+','5-9','9-16','Car', 'Other', 'Train','Airplane']\n",
    "MENSEN_VAKANTIEDUUR.columns = MENSEN_VAKANTIEDUUR.Col\n",
    "\n",
    "cols = MENSEN_VAKANTIEDUUR.columns.tolist()\n",
    "cols = cols[0:1] + cols[2:3] + cols[4:6] + cols[3:4] + cols[1:2] +  cols[6:7]+cols[9:10] + cols[8:9] + cols[7:8]\n",
    "MENSEN_VAKANTIEDUUR = MENSEN_VAKANTIEDUUR[cols]\n",
    "MENSEN_VAKANTIEDUUR.head(2)\n"
   ]
  },
  {
   "cell_type": "code",
   "execution_count": 90,
   "metadata": {},
   "outputs": [
    {
     "data": {
      "application/vnd.plotly.v1+json": {
       "config": {
        "linkText": "Export to plot.ly",
        "plotlyServerURL": "https://plot.ly",
        "showLink": true
       },
       "data": [
        {
         "marker": {
          "color": "rgba(255, 153, 51, 0.6)",
          "line": {
           "color": "rgba(255, 153, 51, 1.0)",
           "width": 1
          }
         },
         "name": "2-5",
         "orientation": "v",
         "text": "",
         "type": "bar",
         "x": [
          "Totaal vakanties",
          "Vakantiebestemming: Nederland",
          "Vakantiebestemming: buitenland",
          "Winterseizoen",
          "Zomerseizoen"
         ],
         "y": [
          15063000,
          11330000,
          6402000,
          10419000,
          9125000
         ]
        },
        {
         "marker": {
          "color": "rgba(55, 128, 191, 0.6)",
          "line": {
           "color": "rgba(55, 128, 191, 1.0)",
           "width": 1
          }
         },
         "name": "5-9",
         "orientation": "v",
         "text": "",
         "type": "bar",
         "x": [
          "Totaal vakanties",
          "Vakantiebestemming: Nederland",
          "Vakantiebestemming: buitenland",
          "Winterseizoen",
          "Zomerseizoen"
         ],
         "y": [
          16355000,
          8336000,
          10188000,
          8808000,
          11028000
         ]
        },
        {
         "marker": {
          "color": "rgba(50, 171, 96, 0.6)",
          "line": {
           "color": "rgba(50, 171, 96, 1.0)",
           "width": 1
          }
         },
         "name": "9-16",
         "orientation": "v",
         "text": "",
         "type": "bar",
         "x": [
          "Totaal vakanties",
          "Vakantiebestemming: Nederland",
          "Vakantiebestemming: buitenland",
          "Winterseizoen",
          "Zomerseizoen"
         ],
         "y": [
          12026000,
          2692000,
          9882000,
          4072000,
          9344000
         ]
        },
        {
         "marker": {
          "color": "rgba(128, 0, 128, 0.6)",
          "line": {
           "color": "rgba(128, 0, 128, 1.0)",
           "width": 1
          }
         },
         "name": "5+",
         "orientation": "v",
         "text": "",
         "type": "bar",
         "x": [
          "Totaal vakanties",
          "Vakantiebestemming: Nederland",
          "Vakantiebestemming: buitenland",
          "Winterseizoen",
          "Zomerseizoen"
         ],
         "y": [
          25883000,
          10824000,
          20595000,
          12953000,
          23265000
         ]
        },
        {
         "marker": {
          "color": "rgba(219, 64, 82, 0.6)",
          "line": {
           "color": "rgba(219, 64, 82, 1.0)",
           "width": 1
          }
         },
         "name": "16+",
         "orientation": "v",
         "text": "",
         "type": "bar",
         "x": [
          "Totaal vakanties",
          "Vakantiebestemming: Nederland",
          "Vakantiebestemming: buitenland",
          "Winterseizoen",
          "Zomerseizoen"
         ],
         "y": [
          9756000,
          1800000,
          8179000,
          2304000,
          8298000
         ]
        },
        {
         "marker": {
          "color": "rgba(0, 128, 128, 0.6)",
          "line": {
           "color": "rgba(0, 128, 128, 1.0)",
           "width": 1
          }
         },
         "name": "Car",
         "orientation": "v",
         "text": "",
         "type": "bar",
         "x": [
          "Totaal vakanties",
          "Vakantiebestemming: Nederland",
          "Vakantiebestemming: buitenland",
          "Winterseizoen",
          "Zomerseizoen"
         ],
         "y": [
          22362000,
          16194000,
          12828000,
          13589000,
          18711000
         ]
        },
        {
         "marker": {
          "color": "rgba(255, 255, 51, 0.6)",
          "line": {
           "color": "rgba(255, 255, 51, 1.0)",
           "width": 1
          }
         },
         "name": "Airplane",
         "orientation": "v",
         "text": "",
         "type": "bar",
         "x": [
          "Totaal vakanties",
          "Vakantiebestemming: Nederland",
          "Vakantiebestemming: buitenland",
          "Winterseizoen",
          "Zomerseizoen"
         ],
         "y": [
          12841000,
          0,
          12841000,
          6807000,
          9353000
         ]
        },
        {
         "marker": {
          "color": "rgba(128, 128, 0, 0.6)",
          "line": {
           "color": "rgba(128, 128, 0, 1.0)",
           "width": 1
          }
         },
         "name": "Train",
         "orientation": "v",
         "text": "",
         "type": "bar",
         "x": [
          "Totaal vakanties",
          "Vakantiebestemming: Nederland",
          "Vakantiebestemming: buitenland",
          "Winterseizoen",
          "Zomerseizoen"
         ],
         "y": [
          2444000,
          1528000,
          1077000,
          1313000,
          1419000
         ]
        },
        {
         "marker": {
          "color": "rgba(251, 128, 114, 0.6)",
          "line": {
           "color": "rgba(251, 128, 114, 1.0)",
           "width": 1
          }
         },
         "name": "Other",
         "orientation": "v",
         "text": "",
         "type": "bar",
         "x": [
          "Totaal vakanties",
          "Vakantiebestemming: Nederland",
          "Vakantiebestemming: buitenland",
          "Winterseizoen",
          "Zomerseizoen"
         ],
         "y": [
          3313000,
          1530000,
          2057000,
          1374000,
          2311000
         ]
        }
       ],
       "layout": {
        "legend": {
         "bgcolor": "#F5F6F9",
         "font": {
          "color": "#4D5663"
         }
        },
        "paper_bgcolor": "#F5F6F9",
        "plot_bgcolor": "#F5F6F9",
        "template": {
         "data": {
          "bar": [
           {
            "error_x": {
             "color": "#2a3f5f"
            },
            "error_y": {
             "color": "#2a3f5f"
            },
            "marker": {
             "line": {
              "color": "#E5ECF6",
              "width": 0.5
             }
            },
            "type": "bar"
           }
          ],
          "barpolar": [
           {
            "marker": {
             "line": {
              "color": "#E5ECF6",
              "width": 0.5
             }
            },
            "type": "barpolar"
           }
          ],
          "carpet": [
           {
            "aaxis": {
             "endlinecolor": "#2a3f5f",
             "gridcolor": "white",
             "linecolor": "white",
             "minorgridcolor": "white",
             "startlinecolor": "#2a3f5f"
            },
            "baxis": {
             "endlinecolor": "#2a3f5f",
             "gridcolor": "white",
             "linecolor": "white",
             "minorgridcolor": "white",
             "startlinecolor": "#2a3f5f"
            },
            "type": "carpet"
           }
          ],
          "choropleth": [
           {
            "colorbar": {
             "outlinewidth": 0,
             "ticks": ""
            },
            "type": "choropleth"
           }
          ],
          "contour": [
           {
            "colorbar": {
             "outlinewidth": 0,
             "ticks": ""
            },
            "colorscale": [
             [
              0,
              "#0d0887"
             ],
             [
              0.1111111111111111,
              "#46039f"
             ],
             [
              0.2222222222222222,
              "#7201a8"
             ],
             [
              0.3333333333333333,
              "#9c179e"
             ],
             [
              0.4444444444444444,
              "#bd3786"
             ],
             [
              0.5555555555555556,
              "#d8576b"
             ],
             [
              0.6666666666666666,
              "#ed7953"
             ],
             [
              0.7777777777777778,
              "#fb9f3a"
             ],
             [
              0.8888888888888888,
              "#fdca26"
             ],
             [
              1,
              "#f0f921"
             ]
            ],
            "type": "contour"
           }
          ],
          "contourcarpet": [
           {
            "colorbar": {
             "outlinewidth": 0,
             "ticks": ""
            },
            "type": "contourcarpet"
           }
          ],
          "heatmap": [
           {
            "colorbar": {
             "outlinewidth": 0,
             "ticks": ""
            },
            "colorscale": [
             [
              0,
              "#0d0887"
             ],
             [
              0.1111111111111111,
              "#46039f"
             ],
             [
              0.2222222222222222,
              "#7201a8"
             ],
             [
              0.3333333333333333,
              "#9c179e"
             ],
             [
              0.4444444444444444,
              "#bd3786"
             ],
             [
              0.5555555555555556,
              "#d8576b"
             ],
             [
              0.6666666666666666,
              "#ed7953"
             ],
             [
              0.7777777777777778,
              "#fb9f3a"
             ],
             [
              0.8888888888888888,
              "#fdca26"
             ],
             [
              1,
              "#f0f921"
             ]
            ],
            "type": "heatmap"
           }
          ],
          "heatmapgl": [
           {
            "colorbar": {
             "outlinewidth": 0,
             "ticks": ""
            },
            "colorscale": [
             [
              0,
              "#0d0887"
             ],
             [
              0.1111111111111111,
              "#46039f"
             ],
             [
              0.2222222222222222,
              "#7201a8"
             ],
             [
              0.3333333333333333,
              "#9c179e"
             ],
             [
              0.4444444444444444,
              "#bd3786"
             ],
             [
              0.5555555555555556,
              "#d8576b"
             ],
             [
              0.6666666666666666,
              "#ed7953"
             ],
             [
              0.7777777777777778,
              "#fb9f3a"
             ],
             [
              0.8888888888888888,
              "#fdca26"
             ],
             [
              1,
              "#f0f921"
             ]
            ],
            "type": "heatmapgl"
           }
          ],
          "histogram": [
           {
            "marker": {
             "colorbar": {
              "outlinewidth": 0,
              "ticks": ""
             }
            },
            "type": "histogram"
           }
          ],
          "histogram2d": [
           {
            "colorbar": {
             "outlinewidth": 0,
             "ticks": ""
            },
            "colorscale": [
             [
              0,
              "#0d0887"
             ],
             [
              0.1111111111111111,
              "#46039f"
             ],
             [
              0.2222222222222222,
              "#7201a8"
             ],
             [
              0.3333333333333333,
              "#9c179e"
             ],
             [
              0.4444444444444444,
              "#bd3786"
             ],
             [
              0.5555555555555556,
              "#d8576b"
             ],
             [
              0.6666666666666666,
              "#ed7953"
             ],
             [
              0.7777777777777778,
              "#fb9f3a"
             ],
             [
              0.8888888888888888,
              "#fdca26"
             ],
             [
              1,
              "#f0f921"
             ]
            ],
            "type": "histogram2d"
           }
          ],
          "histogram2dcontour": [
           {
            "colorbar": {
             "outlinewidth": 0,
             "ticks": ""
            },
            "colorscale": [
             [
              0,
              "#0d0887"
             ],
             [
              0.1111111111111111,
              "#46039f"
             ],
             [
              0.2222222222222222,
              "#7201a8"
             ],
             [
              0.3333333333333333,
              "#9c179e"
             ],
             [
              0.4444444444444444,
              "#bd3786"
             ],
             [
              0.5555555555555556,
              "#d8576b"
             ],
             [
              0.6666666666666666,
              "#ed7953"
             ],
             [
              0.7777777777777778,
              "#fb9f3a"
             ],
             [
              0.8888888888888888,
              "#fdca26"
             ],
             [
              1,
              "#f0f921"
             ]
            ],
            "type": "histogram2dcontour"
           }
          ],
          "mesh3d": [
           {
            "colorbar": {
             "outlinewidth": 0,
             "ticks": ""
            },
            "type": "mesh3d"
           }
          ],
          "parcoords": [
           {
            "line": {
             "colorbar": {
              "outlinewidth": 0,
              "ticks": ""
             }
            },
            "type": "parcoords"
           }
          ],
          "scatter": [
           {
            "marker": {
             "colorbar": {
              "outlinewidth": 0,
              "ticks": ""
             }
            },
            "type": "scatter"
           }
          ],
          "scatter3d": [
           {
            "line": {
             "colorbar": {
              "outlinewidth": 0,
              "ticks": ""
             }
            },
            "marker": {
             "colorbar": {
              "outlinewidth": 0,
              "ticks": ""
             }
            },
            "type": "scatter3d"
           }
          ],
          "scattercarpet": [
           {
            "marker": {
             "colorbar": {
              "outlinewidth": 0,
              "ticks": ""
             }
            },
            "type": "scattercarpet"
           }
          ],
          "scattergeo": [
           {
            "marker": {
             "colorbar": {
              "outlinewidth": 0,
              "ticks": ""
             }
            },
            "type": "scattergeo"
           }
          ],
          "scattergl": [
           {
            "marker": {
             "colorbar": {
              "outlinewidth": 0,
              "ticks": ""
             }
            },
            "type": "scattergl"
           }
          ],
          "scattermapbox": [
           {
            "marker": {
             "colorbar": {
              "outlinewidth": 0,
              "ticks": ""
             }
            },
            "type": "scattermapbox"
           }
          ],
          "scatterpolar": [
           {
            "marker": {
             "colorbar": {
              "outlinewidth": 0,
              "ticks": ""
             }
            },
            "type": "scatterpolar"
           }
          ],
          "scatterpolargl": [
           {
            "marker": {
             "colorbar": {
              "outlinewidth": 0,
              "ticks": ""
             }
            },
            "type": "scatterpolargl"
           }
          ],
          "scatterternary": [
           {
            "marker": {
             "colorbar": {
              "outlinewidth": 0,
              "ticks": ""
             }
            },
            "type": "scatterternary"
           }
          ],
          "surface": [
           {
            "colorbar": {
             "outlinewidth": 0,
             "ticks": ""
            },
            "colorscale": [
             [
              0,
              "#0d0887"
             ],
             [
              0.1111111111111111,
              "#46039f"
             ],
             [
              0.2222222222222222,
              "#7201a8"
             ],
             [
              0.3333333333333333,
              "#9c179e"
             ],
             [
              0.4444444444444444,
              "#bd3786"
             ],
             [
              0.5555555555555556,
              "#d8576b"
             ],
             [
              0.6666666666666666,
              "#ed7953"
             ],
             [
              0.7777777777777778,
              "#fb9f3a"
             ],
             [
              0.8888888888888888,
              "#fdca26"
             ],
             [
              1,
              "#f0f921"
             ]
            ],
            "type": "surface"
           }
          ],
          "table": [
           {
            "cells": {
             "fill": {
              "color": "#EBF0F8"
             },
             "line": {
              "color": "white"
             }
            },
            "header": {
             "fill": {
              "color": "#C8D4E3"
             },
             "line": {
              "color": "white"
             }
            },
            "type": "table"
           }
          ]
         },
         "layout": {
          "annotationdefaults": {
           "arrowcolor": "#2a3f5f",
           "arrowhead": 0,
           "arrowwidth": 1
          },
          "colorscale": {
           "diverging": [
            [
             0,
             "#8e0152"
            ],
            [
             0.1,
             "#c51b7d"
            ],
            [
             0.2,
             "#de77ae"
            ],
            [
             0.3,
             "#f1b6da"
            ],
            [
             0.4,
             "#fde0ef"
            ],
            [
             0.5,
             "#f7f7f7"
            ],
            [
             0.6,
             "#e6f5d0"
            ],
            [
             0.7,
             "#b8e186"
            ],
            [
             0.8,
             "#7fbc41"
            ],
            [
             0.9,
             "#4d9221"
            ],
            [
             1,
             "#276419"
            ]
           ],
           "sequential": [
            [
             0,
             "#0d0887"
            ],
            [
             0.1111111111111111,
             "#46039f"
            ],
            [
             0.2222222222222222,
             "#7201a8"
            ],
            [
             0.3333333333333333,
             "#9c179e"
            ],
            [
             0.4444444444444444,
             "#bd3786"
            ],
            [
             0.5555555555555556,
             "#d8576b"
            ],
            [
             0.6666666666666666,
             "#ed7953"
            ],
            [
             0.7777777777777778,
             "#fb9f3a"
            ],
            [
             0.8888888888888888,
             "#fdca26"
            ],
            [
             1,
             "#f0f921"
            ]
           ],
           "sequentialminus": [
            [
             0,
             "#0d0887"
            ],
            [
             0.1111111111111111,
             "#46039f"
            ],
            [
             0.2222222222222222,
             "#7201a8"
            ],
            [
             0.3333333333333333,
             "#9c179e"
            ],
            [
             0.4444444444444444,
             "#bd3786"
            ],
            [
             0.5555555555555556,
             "#d8576b"
            ],
            [
             0.6666666666666666,
             "#ed7953"
            ],
            [
             0.7777777777777778,
             "#fb9f3a"
            ],
            [
             0.8888888888888888,
             "#fdca26"
            ],
            [
             1,
             "#f0f921"
            ]
           ]
          },
          "colorway": [
           "#636efa",
           "#EF553B",
           "#00cc96",
           "#ab63fa",
           "#FFA15A",
           "#19d3f3",
           "#FF6692",
           "#B6E880",
           "#FF97FF",
           "#FECB52"
          ],
          "font": {
           "color": "#2a3f5f"
          },
          "geo": {
           "bgcolor": "white",
           "lakecolor": "white",
           "landcolor": "#E5ECF6",
           "showlakes": true,
           "showland": true,
           "subunitcolor": "white"
          },
          "hoverlabel": {
           "align": "left"
          },
          "hovermode": "closest",
          "mapbox": {
           "style": "light"
          },
          "paper_bgcolor": "white",
          "plot_bgcolor": "#E5ECF6",
          "polar": {
           "angularaxis": {
            "gridcolor": "white",
            "linecolor": "white",
            "ticks": ""
           },
           "bgcolor": "#E5ECF6",
           "radialaxis": {
            "gridcolor": "white",
            "linecolor": "white",
            "ticks": ""
           }
          },
          "scene": {
           "xaxis": {
            "backgroundcolor": "#E5ECF6",
            "gridcolor": "white",
            "gridwidth": 2,
            "linecolor": "white",
            "showbackground": true,
            "ticks": "",
            "zerolinecolor": "white"
           },
           "yaxis": {
            "backgroundcolor": "#E5ECF6",
            "gridcolor": "white",
            "gridwidth": 2,
            "linecolor": "white",
            "showbackground": true,
            "ticks": "",
            "zerolinecolor": "white"
           },
           "zaxis": {
            "backgroundcolor": "#E5ECF6",
            "gridcolor": "white",
            "gridwidth": 2,
            "linecolor": "white",
            "showbackground": true,
            "ticks": "",
            "zerolinecolor": "white"
           }
          },
          "shapedefaults": {
           "line": {
            "color": "#2a3f5f"
           }
          },
          "ternary": {
           "aaxis": {
            "gridcolor": "white",
            "linecolor": "white",
            "ticks": ""
           },
           "baxis": {
            "gridcolor": "white",
            "linecolor": "white",
            "ticks": ""
           },
           "bgcolor": "#E5ECF6",
           "caxis": {
            "gridcolor": "white",
            "linecolor": "white",
            "ticks": ""
           }
          },
          "title": {
           "x": 0.05
          },
          "xaxis": {
           "automargin": true,
           "gridcolor": "white",
           "linecolor": "white",
           "ticks": "",
           "zerolinecolor": "white",
           "zerolinewidth": 2
          },
          "yaxis": {
           "automargin": true,
           "gridcolor": "white",
           "linecolor": "white",
           "ticks": "",
           "zerolinecolor": "white",
           "zerolinewidth": 2
          }
         }
        },
        "title": {
         "font": {
          "color": "#4D5663"
         },
         "text": "Holliday days and transport choice"
        },
        "xaxis": {
         "gridcolor": "#E1E5ED",
         "showgrid": true,
         "tickfont": {
          "color": "#4D5663"
         },
         "title": {
          "font": {
           "color": "#4D5663"
          },
          "text": "Travel time and transport choice"
         },
         "zerolinecolor": "#E1E5ED"
        },
        "yaxis": {
         "gridcolor": "#E1E5ED",
         "showgrid": true,
         "tickfont": {
          "color": "#4D5663"
         },
         "title": {
          "font": {
           "color": "#4D5663"
          },
          "text": "amound of days and people"
         },
         "zerolinecolor": "#E1E5ED"
        }
       }
      },
      "text/html": [
       "<div>\n",
       "        \n",
       "        \n",
       "            <div id=\"e7a7822b-ae7c-48f2-bfb8-f7a7feaa9e3c\" class=\"plotly-graph-div\" style=\"height:525px; width:100%;\"></div>\n",
       "            <script type=\"text/javascript\">\n",
       "                require([\"plotly\"], function(Plotly) {\n",
       "                    window.PLOTLYENV=window.PLOTLYENV || {};\n",
       "                    window.PLOTLYENV.BASE_URL='https://plot.ly';\n",
       "                    \n",
       "                if (document.getElementById(\"e7a7822b-ae7c-48f2-bfb8-f7a7feaa9e3c\")) {\n",
       "                    Plotly.newPlot(\n",
       "                        'e7a7822b-ae7c-48f2-bfb8-f7a7feaa9e3c',\n",
       "                        [{\"marker\": {\"color\": \"rgba(255, 153, 51, 0.6)\", \"line\": {\"color\": \"rgba(255, 153, 51, 1.0)\", \"width\": 1}}, \"name\": \"2-5\", \"orientation\": \"v\", \"text\": \"\", \"type\": \"bar\", \"x\": [\"Totaal vakanties\", \"Vakantiebestemming: Nederland\", \"Vakantiebestemming: buitenland\", \"Winterseizoen\", \"Zomerseizoen\"], \"y\": [15063000, 11330000, 6402000, 10419000, 9125000]}, {\"marker\": {\"color\": \"rgba(55, 128, 191, 0.6)\", \"line\": {\"color\": \"rgba(55, 128, 191, 1.0)\", \"width\": 1}}, \"name\": \"5-9\", \"orientation\": \"v\", \"text\": \"\", \"type\": \"bar\", \"x\": [\"Totaal vakanties\", \"Vakantiebestemming: Nederland\", \"Vakantiebestemming: buitenland\", \"Winterseizoen\", \"Zomerseizoen\"], \"y\": [16355000, 8336000, 10188000, 8808000, 11028000]}, {\"marker\": {\"color\": \"rgba(50, 171, 96, 0.6)\", \"line\": {\"color\": \"rgba(50, 171, 96, 1.0)\", \"width\": 1}}, \"name\": \"9-16\", \"orientation\": \"v\", \"text\": \"\", \"type\": \"bar\", \"x\": [\"Totaal vakanties\", \"Vakantiebestemming: Nederland\", \"Vakantiebestemming: buitenland\", \"Winterseizoen\", \"Zomerseizoen\"], \"y\": [12026000, 2692000, 9882000, 4072000, 9344000]}, {\"marker\": {\"color\": \"rgba(128, 0, 128, 0.6)\", \"line\": {\"color\": \"rgba(128, 0, 128, 1.0)\", \"width\": 1}}, \"name\": \"5+\", \"orientation\": \"v\", \"text\": \"\", \"type\": \"bar\", \"x\": [\"Totaal vakanties\", \"Vakantiebestemming: Nederland\", \"Vakantiebestemming: buitenland\", \"Winterseizoen\", \"Zomerseizoen\"], \"y\": [25883000, 10824000, 20595000, 12953000, 23265000]}, {\"marker\": {\"color\": \"rgba(219, 64, 82, 0.6)\", \"line\": {\"color\": \"rgba(219, 64, 82, 1.0)\", \"width\": 1}}, \"name\": \"16+\", \"orientation\": \"v\", \"text\": \"\", \"type\": \"bar\", \"x\": [\"Totaal vakanties\", \"Vakantiebestemming: Nederland\", \"Vakantiebestemming: buitenland\", \"Winterseizoen\", \"Zomerseizoen\"], \"y\": [9756000, 1800000, 8179000, 2304000, 8298000]}, {\"marker\": {\"color\": \"rgba(0, 128, 128, 0.6)\", \"line\": {\"color\": \"rgba(0, 128, 128, 1.0)\", \"width\": 1}}, \"name\": \"Car\", \"orientation\": \"v\", \"text\": \"\", \"type\": \"bar\", \"x\": [\"Totaal vakanties\", \"Vakantiebestemming: Nederland\", \"Vakantiebestemming: buitenland\", \"Winterseizoen\", \"Zomerseizoen\"], \"y\": [22362000, 16194000, 12828000, 13589000, 18711000]}, {\"marker\": {\"color\": \"rgba(255, 255, 51, 0.6)\", \"line\": {\"color\": \"rgba(255, 255, 51, 1.0)\", \"width\": 1}}, \"name\": \"Airplane\", \"orientation\": \"v\", \"text\": \"\", \"type\": \"bar\", \"x\": [\"Totaal vakanties\", \"Vakantiebestemming: Nederland\", \"Vakantiebestemming: buitenland\", \"Winterseizoen\", \"Zomerseizoen\"], \"y\": [12841000, 0, 12841000, 6807000, 9353000]}, {\"marker\": {\"color\": \"rgba(128, 128, 0, 0.6)\", \"line\": {\"color\": \"rgba(128, 128, 0, 1.0)\", \"width\": 1}}, \"name\": \"Train\", \"orientation\": \"v\", \"text\": \"\", \"type\": \"bar\", \"x\": [\"Totaal vakanties\", \"Vakantiebestemming: Nederland\", \"Vakantiebestemming: buitenland\", \"Winterseizoen\", \"Zomerseizoen\"], \"y\": [2444000, 1528000, 1077000, 1313000, 1419000]}, {\"marker\": {\"color\": \"rgba(251, 128, 114, 0.6)\", \"line\": {\"color\": \"rgba(251, 128, 114, 1.0)\", \"width\": 1}}, \"name\": \"Other\", \"orientation\": \"v\", \"text\": \"\", \"type\": \"bar\", \"x\": [\"Totaal vakanties\", \"Vakantiebestemming: Nederland\", \"Vakantiebestemming: buitenland\", \"Winterseizoen\", \"Zomerseizoen\"], \"y\": [3313000, 1530000, 2057000, 1374000, 2311000]}],\n",
       "                        {\"legend\": {\"bgcolor\": \"#F5F6F9\", \"font\": {\"color\": \"#4D5663\"}}, \"paper_bgcolor\": \"#F5F6F9\", \"plot_bgcolor\": \"#F5F6F9\", \"template\": {\"data\": {\"bar\": [{\"error_x\": {\"color\": \"#2a3f5f\"}, \"error_y\": {\"color\": \"#2a3f5f\"}, \"marker\": {\"line\": {\"color\": \"#E5ECF6\", \"width\": 0.5}}, \"type\": \"bar\"}], \"barpolar\": [{\"marker\": {\"line\": {\"color\": \"#E5ECF6\", \"width\": 0.5}}, \"type\": \"barpolar\"}], \"carpet\": [{\"aaxis\": {\"endlinecolor\": \"#2a3f5f\", \"gridcolor\": \"white\", \"linecolor\": \"white\", \"minorgridcolor\": \"white\", \"startlinecolor\": \"#2a3f5f\"}, \"baxis\": {\"endlinecolor\": \"#2a3f5f\", \"gridcolor\": \"white\", \"linecolor\": \"white\", \"minorgridcolor\": \"white\", \"startlinecolor\": \"#2a3f5f\"}, \"type\": \"carpet\"}], \"choropleth\": [{\"colorbar\": {\"outlinewidth\": 0, \"ticks\": \"\"}, \"type\": \"choropleth\"}], \"contour\": [{\"colorbar\": {\"outlinewidth\": 0, \"ticks\": \"\"}, \"colorscale\": [[0.0, \"#0d0887\"], [0.1111111111111111, \"#46039f\"], [0.2222222222222222, \"#7201a8\"], [0.3333333333333333, \"#9c179e\"], [0.4444444444444444, \"#bd3786\"], [0.5555555555555556, \"#d8576b\"], [0.6666666666666666, \"#ed7953\"], [0.7777777777777778, \"#fb9f3a\"], [0.8888888888888888, \"#fdca26\"], [1.0, \"#f0f921\"]], \"type\": \"contour\"}], \"contourcarpet\": [{\"colorbar\": {\"outlinewidth\": 0, \"ticks\": \"\"}, \"type\": \"contourcarpet\"}], \"heatmap\": [{\"colorbar\": {\"outlinewidth\": 0, \"ticks\": \"\"}, \"colorscale\": [[0.0, \"#0d0887\"], [0.1111111111111111, \"#46039f\"], [0.2222222222222222, \"#7201a8\"], [0.3333333333333333, \"#9c179e\"], [0.4444444444444444, \"#bd3786\"], [0.5555555555555556, \"#d8576b\"], [0.6666666666666666, \"#ed7953\"], [0.7777777777777778, \"#fb9f3a\"], [0.8888888888888888, \"#fdca26\"], [1.0, \"#f0f921\"]], \"type\": \"heatmap\"}], \"heatmapgl\": [{\"colorbar\": {\"outlinewidth\": 0, \"ticks\": \"\"}, \"colorscale\": [[0.0, \"#0d0887\"], [0.1111111111111111, \"#46039f\"], [0.2222222222222222, \"#7201a8\"], [0.3333333333333333, \"#9c179e\"], [0.4444444444444444, \"#bd3786\"], [0.5555555555555556, \"#d8576b\"], [0.6666666666666666, \"#ed7953\"], [0.7777777777777778, \"#fb9f3a\"], [0.8888888888888888, \"#fdca26\"], [1.0, \"#f0f921\"]], \"type\": \"heatmapgl\"}], \"histogram\": [{\"marker\": {\"colorbar\": {\"outlinewidth\": 0, \"ticks\": \"\"}}, \"type\": \"histogram\"}], \"histogram2d\": [{\"colorbar\": {\"outlinewidth\": 0, \"ticks\": \"\"}, \"colorscale\": [[0.0, \"#0d0887\"], [0.1111111111111111, \"#46039f\"], [0.2222222222222222, \"#7201a8\"], [0.3333333333333333, \"#9c179e\"], [0.4444444444444444, \"#bd3786\"], [0.5555555555555556, \"#d8576b\"], [0.6666666666666666, \"#ed7953\"], [0.7777777777777778, \"#fb9f3a\"], [0.8888888888888888, \"#fdca26\"], [1.0, \"#f0f921\"]], \"type\": \"histogram2d\"}], \"histogram2dcontour\": [{\"colorbar\": {\"outlinewidth\": 0, \"ticks\": \"\"}, \"colorscale\": [[0.0, \"#0d0887\"], [0.1111111111111111, \"#46039f\"], [0.2222222222222222, \"#7201a8\"], [0.3333333333333333, \"#9c179e\"], [0.4444444444444444, \"#bd3786\"], [0.5555555555555556, \"#d8576b\"], [0.6666666666666666, \"#ed7953\"], [0.7777777777777778, \"#fb9f3a\"], [0.8888888888888888, \"#fdca26\"], [1.0, \"#f0f921\"]], \"type\": \"histogram2dcontour\"}], \"mesh3d\": [{\"colorbar\": {\"outlinewidth\": 0, \"ticks\": \"\"}, \"type\": \"mesh3d\"}], \"parcoords\": [{\"line\": {\"colorbar\": {\"outlinewidth\": 0, \"ticks\": \"\"}}, \"type\": \"parcoords\"}], \"scatter\": [{\"marker\": {\"colorbar\": {\"outlinewidth\": 0, \"ticks\": \"\"}}, \"type\": \"scatter\"}], \"scatter3d\": [{\"line\": {\"colorbar\": {\"outlinewidth\": 0, \"ticks\": \"\"}}, \"marker\": {\"colorbar\": {\"outlinewidth\": 0, \"ticks\": \"\"}}, \"type\": \"scatter3d\"}], \"scattercarpet\": [{\"marker\": {\"colorbar\": {\"outlinewidth\": 0, \"ticks\": \"\"}}, \"type\": \"scattercarpet\"}], \"scattergeo\": [{\"marker\": {\"colorbar\": {\"outlinewidth\": 0, \"ticks\": \"\"}}, \"type\": \"scattergeo\"}], \"scattergl\": [{\"marker\": {\"colorbar\": {\"outlinewidth\": 0, \"ticks\": \"\"}}, \"type\": \"scattergl\"}], \"scattermapbox\": [{\"marker\": {\"colorbar\": {\"outlinewidth\": 0, \"ticks\": \"\"}}, \"type\": \"scattermapbox\"}], \"scatterpolar\": [{\"marker\": {\"colorbar\": {\"outlinewidth\": 0, \"ticks\": \"\"}}, \"type\": \"scatterpolar\"}], \"scatterpolargl\": [{\"marker\": {\"colorbar\": {\"outlinewidth\": 0, \"ticks\": \"\"}}, \"type\": \"scatterpolargl\"}], \"scatterternary\": [{\"marker\": {\"colorbar\": {\"outlinewidth\": 0, \"ticks\": \"\"}}, \"type\": \"scatterternary\"}], \"surface\": [{\"colorbar\": {\"outlinewidth\": 0, \"ticks\": \"\"}, \"colorscale\": [[0.0, \"#0d0887\"], [0.1111111111111111, \"#46039f\"], [0.2222222222222222, \"#7201a8\"], [0.3333333333333333, \"#9c179e\"], [0.4444444444444444, \"#bd3786\"], [0.5555555555555556, \"#d8576b\"], [0.6666666666666666, \"#ed7953\"], [0.7777777777777778, \"#fb9f3a\"], [0.8888888888888888, \"#fdca26\"], [1.0, \"#f0f921\"]], \"type\": \"surface\"}], \"table\": [{\"cells\": {\"fill\": {\"color\": \"#EBF0F8\"}, \"line\": {\"color\": \"white\"}}, \"header\": {\"fill\": {\"color\": \"#C8D4E3\"}, \"line\": {\"color\": \"white\"}}, \"type\": \"table\"}]}, \"layout\": {\"annotationdefaults\": {\"arrowcolor\": \"#2a3f5f\", \"arrowhead\": 0, \"arrowwidth\": 1}, \"colorscale\": {\"diverging\": [[0, \"#8e0152\"], [0.1, \"#c51b7d\"], [0.2, \"#de77ae\"], [0.3, \"#f1b6da\"], [0.4, \"#fde0ef\"], [0.5, \"#f7f7f7\"], [0.6, \"#e6f5d0\"], [0.7, \"#b8e186\"], [0.8, \"#7fbc41\"], [0.9, \"#4d9221\"], [1, \"#276419\"]], \"sequential\": [[0.0, \"#0d0887\"], [0.1111111111111111, \"#46039f\"], [0.2222222222222222, \"#7201a8\"], [0.3333333333333333, \"#9c179e\"], [0.4444444444444444, \"#bd3786\"], [0.5555555555555556, \"#d8576b\"], [0.6666666666666666, \"#ed7953\"], [0.7777777777777778, \"#fb9f3a\"], [0.8888888888888888, \"#fdca26\"], [1.0, \"#f0f921\"]], \"sequentialminus\": [[0.0, \"#0d0887\"], [0.1111111111111111, \"#46039f\"], [0.2222222222222222, \"#7201a8\"], [0.3333333333333333, \"#9c179e\"], [0.4444444444444444, \"#bd3786\"], [0.5555555555555556, \"#d8576b\"], [0.6666666666666666, \"#ed7953\"], [0.7777777777777778, \"#fb9f3a\"], [0.8888888888888888, \"#fdca26\"], [1.0, \"#f0f921\"]]}, \"colorway\": [\"#636efa\", \"#EF553B\", \"#00cc96\", \"#ab63fa\", \"#FFA15A\", \"#19d3f3\", \"#FF6692\", \"#B6E880\", \"#FF97FF\", \"#FECB52\"], \"font\": {\"color\": \"#2a3f5f\"}, \"geo\": {\"bgcolor\": \"white\", \"lakecolor\": \"white\", \"landcolor\": \"#E5ECF6\", \"showlakes\": true, \"showland\": true, \"subunitcolor\": \"white\"}, \"hoverlabel\": {\"align\": \"left\"}, \"hovermode\": \"closest\", \"mapbox\": {\"style\": \"light\"}, \"paper_bgcolor\": \"white\", \"plot_bgcolor\": \"#E5ECF6\", \"polar\": {\"angularaxis\": {\"gridcolor\": \"white\", \"linecolor\": \"white\", \"ticks\": \"\"}, \"bgcolor\": \"#E5ECF6\", \"radialaxis\": {\"gridcolor\": \"white\", \"linecolor\": \"white\", \"ticks\": \"\"}}, \"scene\": {\"xaxis\": {\"backgroundcolor\": \"#E5ECF6\", \"gridcolor\": \"white\", \"gridwidth\": 2, \"linecolor\": \"white\", \"showbackground\": true, \"ticks\": \"\", \"zerolinecolor\": \"white\"}, \"yaxis\": {\"backgroundcolor\": \"#E5ECF6\", \"gridcolor\": \"white\", \"gridwidth\": 2, \"linecolor\": \"white\", \"showbackground\": true, \"ticks\": \"\", \"zerolinecolor\": \"white\"}, \"zaxis\": {\"backgroundcolor\": \"#E5ECF6\", \"gridcolor\": \"white\", \"gridwidth\": 2, \"linecolor\": \"white\", \"showbackground\": true, \"ticks\": \"\", \"zerolinecolor\": \"white\"}}, \"shapedefaults\": {\"line\": {\"color\": \"#2a3f5f\"}}, \"ternary\": {\"aaxis\": {\"gridcolor\": \"white\", \"linecolor\": \"white\", \"ticks\": \"\"}, \"baxis\": {\"gridcolor\": \"white\", \"linecolor\": \"white\", \"ticks\": \"\"}, \"bgcolor\": \"#E5ECF6\", \"caxis\": {\"gridcolor\": \"white\", \"linecolor\": \"white\", \"ticks\": \"\"}}, \"title\": {\"x\": 0.05}, \"xaxis\": {\"automargin\": true, \"gridcolor\": \"white\", \"linecolor\": \"white\", \"ticks\": \"\", \"zerolinecolor\": \"white\", \"zerolinewidth\": 2}, \"yaxis\": {\"automargin\": true, \"gridcolor\": \"white\", \"linecolor\": \"white\", \"ticks\": \"\", \"zerolinecolor\": \"white\", \"zerolinewidth\": 2}}}, \"title\": {\"font\": {\"color\": \"#4D5663\"}, \"text\": \"Holliday days and transport choice\"}, \"xaxis\": {\"gridcolor\": \"#E1E5ED\", \"showgrid\": true, \"tickfont\": {\"color\": \"#4D5663\"}, \"title\": {\"font\": {\"color\": \"#4D5663\"}, \"text\": \"Travel time and transport choice\"}, \"zerolinecolor\": \"#E1E5ED\"}, \"yaxis\": {\"gridcolor\": \"#E1E5ED\", \"showgrid\": true, \"tickfont\": {\"color\": \"#4D5663\"}, \"title\": {\"font\": {\"color\": \"#4D5663\"}, \"text\": \"amound of days and people\"}, \"zerolinecolor\": \"#E1E5ED\"}},\n",
       "                        {\"showLink\": true, \"linkText\": \"Export to plot.ly\", \"plotlyServerURL\": \"https://plot.ly\", \"responsive\": true}\n",
       "                    ).then(function(){\n",
       "                            \n",
       "var gd = document.getElementById('e7a7822b-ae7c-48f2-bfb8-f7a7feaa9e3c');\n",
       "var x = new MutationObserver(function (mutations, observer) {{\n",
       "        var display = window.getComputedStyle(gd).display;\n",
       "        if (!display || display === 'none') {{\n",
       "            console.log([gd, 'removed!']);\n",
       "            Plotly.purge(gd);\n",
       "            observer.disconnect();\n",
       "        }}\n",
       "}});\n",
       "\n",
       "// Listen for the removal of the full notebook cells\n",
       "var notebookContainer = gd.closest('#notebook-container');\n",
       "if (notebookContainer) {{\n",
       "    x.observe(notebookContainer, {childList: true});\n",
       "}}\n",
       "\n",
       "// Listen for the clearing of the current output cell\n",
       "var outputEl = gd.closest('.output');\n",
       "if (outputEl) {{\n",
       "    x.observe(outputEl, {childList: true});\n",
       "}}\n",
       "\n",
       "                        })\n",
       "                };\n",
       "                });\n",
       "            </script>\n",
       "        </div>"
      ]
     },
     "metadata": {},
     "output_type": "display_data"
    }
   ],
   "source": [
    "MENSEN_VAKANTIEDUUR.iplot(kind='bar', \n",
    "           x='Bestemming en seizoen', \n",
    "           xTitle='Travel time and transport choice', \n",
    "           yTitle='amound of days and people', \n",
    "           title='Holliday days and transport choice')"
   ]
  },
  {
   "cell_type": "code",
   "execution_count": 92,
   "metadata": {},
   "outputs": [
    {
     "data": {
      "text/plain": [
       "<seaborn.axisgrid.PairGrid at 0x1340213d0>"
      ]
     },
     "execution_count": 92,
     "metadata": {},
     "output_type": "execute_result"
    },
    {
     "data": {
      "image/png": "[encoded data removed]",
      "text/plain": [
       "<Figure size 1080x1080 with 42 Axes>"
      ]
     },
     "metadata": {
      "needs_background": "light"
     },
     "output_type": "display_data"
    }
   ],
   "source": [
    "vliegen_vakantieduur = MENSEN_VAKANTIEDUUR[['2-5','5-9','9-16','5+','16+','Airplane']]\n",
    "sns.pairplot(vliegen_vakantieduur)"
   ]
  },
  {
   "cell_type": "code",
   "execution_count": 95,
   "metadata": {},
   "outputs": [
    {
     "data": {
      "text/html": [
       "<div>\n",
       "<style scoped>\n",
       "    .dataframe tbody tr th:only-of-type {\n",
       "        vertical-align: middle;\n",
       "    }\n",
       "\n",
       "    .dataframe tbody tr th {\n",
       "        vertical-align: top;\n",
       "    }\n",
       "\n",
       "    .dataframe thead th {\n",
       "        text-align: right;\n",
       "    }\n",
       "</style>\n",
       "<table border=\"1\" class=\"dataframe\">\n",
       "  <thead>\n",
       "    <tr style=\"text-align: right;\">\n",
       "      <th></th>\n",
       "      <th>2-5</th>\n",
       "      <th>5-9</th>\n",
       "      <th>9-16</th>\n",
       "      <th>5+</th>\n",
       "      <th>16+</th>\n",
       "      <th>Airplane</th>\n",
       "    </tr>\n",
       "  </thead>\n",
       "  <tbody>\n",
       "    <tr>\n",
       "      <td>Airplane</td>\n",
       "      <td>-0.090235</td>\n",
       "      <td>0.673583</td>\n",
       "      <td>0.916249</td>\n",
       "      <td>0.861208</td>\n",
       "      <td>0.879404</td>\n",
       "      <td>1.0</td>\n",
       "    </tr>\n",
       "  </tbody>\n",
       "</table>\n",
       "</div>"
      ],
      "text/plain": [
       "               2-5       5-9      9-16        5+       16+  Airplane\n",
       "Airplane -0.090235  0.673583  0.916249  0.861208  0.879404       1.0"
      ]
     },
     "execution_count": 95,
     "metadata": {},
     "output_type": "execute_result"
    }
   ],
   "source": [
    "vliegen_vakantieduur.corr()[5:6]"
   ]
  },
  {
   "cell_type": "code",
   "execution_count": 102,
   "metadata": {},
   "outputs": [
    {
     "data": {
      "text/html": [
       "<div>\n",
       "<style scoped>\n",
       "    .dataframe tbody tr th:only-of-type {\n",
       "        vertical-align: middle;\n",
       "    }\n",
       "\n",
       "    .dataframe tbody tr th {\n",
       "        vertical-align: top;\n",
       "    }\n",
       "\n",
       "    .dataframe thead th {\n",
       "        text-align: right;\n",
       "    }\n",
       "</style>\n",
       "<table border=\"1\" class=\"dataframe\">\n",
       "  <thead>\n",
       "    <tr style=\"text-align: right;\">\n",
       "      <th></th>\n",
       "      <th>2-5</th>\n",
       "      <th>5-9</th>\n",
       "      <th>9-16</th>\n",
       "      <th>5+</th>\n",
       "      <th>16+</th>\n",
       "      <th>Car</th>\n",
       "      <th>Airplane</th>\n",
       "      <th>Train</th>\n",
       "      <th>Other</th>\n",
       "    </tr>\n",
       "    <tr>\n",
       "      <th>Bestemming en seizoen</th>\n",
       "      <th></th>\n",
       "      <th></th>\n",
       "      <th></th>\n",
       "      <th></th>\n",
       "      <th></th>\n",
       "      <th></th>\n",
       "      <th></th>\n",
       "      <th></th>\n",
       "      <th></th>\n",
       "    </tr>\n",
       "  </thead>\n",
       "  <tbody>\n",
       "    <tr>\n",
       "      <td>Totaal vakanties</td>\n",
       "      <td>15063000</td>\n",
       "      <td>16355000</td>\n",
       "      <td>12026000</td>\n",
       "      <td>25883000</td>\n",
       "      <td>9756000</td>\n",
       "      <td>22362000</td>\n",
       "      <td>12841000</td>\n",
       "      <td>2444000</td>\n",
       "      <td>3313000</td>\n",
       "    </tr>\n",
       "    <tr>\n",
       "      <td>Vakantiebestemming: Nederland</td>\n",
       "      <td>11330000</td>\n",
       "      <td>8336000</td>\n",
       "      <td>2692000</td>\n",
       "      <td>10824000</td>\n",
       "      <td>1800000</td>\n",
       "      <td>16194000</td>\n",
       "      <td>0</td>\n",
       "      <td>1528000</td>\n",
       "      <td>1530000</td>\n",
       "    </tr>\n",
       "    <tr>\n",
       "      <td>Vakantiebestemming: buitenland</td>\n",
       "      <td>6402000</td>\n",
       "      <td>10188000</td>\n",
       "      <td>9882000</td>\n",
       "      <td>20595000</td>\n",
       "      <td>8179000</td>\n",
       "      <td>12828000</td>\n",
       "      <td>12841000</td>\n",
       "      <td>1077000</td>\n",
       "      <td>2057000</td>\n",
       "    </tr>\n",
       "    <tr>\n",
       "      <td>Winterseizoen</td>\n",
       "      <td>10419000</td>\n",
       "      <td>8808000</td>\n",
       "      <td>4072000</td>\n",
       "      <td>12953000</td>\n",
       "      <td>2304000</td>\n",
       "      <td>13589000</td>\n",
       "      <td>6807000</td>\n",
       "      <td>1313000</td>\n",
       "      <td>1374000</td>\n",
       "    </tr>\n",
       "    <tr>\n",
       "      <td>Zomerseizoen</td>\n",
       "      <td>9125000</td>\n",
       "      <td>11028000</td>\n",
       "      <td>9344000</td>\n",
       "      <td>23265000</td>\n",
       "      <td>8298000</td>\n",
       "      <td>18711000</td>\n",
       "      <td>9353000</td>\n",
       "      <td>1419000</td>\n",
       "      <td>2311000</td>\n",
       "    </tr>\n",
       "  </tbody>\n",
       "</table>\n",
       "</div>"
      ],
      "text/plain": [
       "                                     2-5       5-9      9-16        5+  \\\n",
       "Bestemming en seizoen                                                    \n",
       "Totaal vakanties                15063000  16355000  12026000  25883000   \n",
       "Vakantiebestemming: Nederland   11330000   8336000   2692000  10824000   \n",
       "Vakantiebestemming: buitenland   6402000  10188000   9882000  20595000   \n",
       "Winterseizoen                   10419000   8808000   4072000  12953000   \n",
       "Zomerseizoen                     9125000  11028000   9344000  23265000   \n",
       "\n",
       "                                    16+       Car  Airplane    Train    Other  \n",
       "Bestemming en seizoen                                                          \n",
       "Totaal vakanties                9756000  22362000  12841000  2444000  3313000  \n",
       "Vakantiebestemming: Nederland   1800000  16194000         0  1528000  1530000  \n",
       "Vakantiebestemming: buitenland  8179000  12828000  12841000  1077000  2057000  \n",
       "Winterseizoen                   2304000  13589000   6807000  1313000  1374000  \n",
       "Zomerseizoen                    8298000  18711000   9353000  1419000  2311000  "
      ]
     },
     "execution_count": 102,
     "metadata": {},
     "output_type": "execute_result"
    }
   ],
   "source": [
    "MENSEN_VAKANTIEDUUR.index = MENSEN_VAKANTIEDUUR[\"Bestemming en seizoen\"]\n",
    "MENSEN_VAKANTIEDUUR\n",
    "heatmap = MENSEN_VAKANTIEDUUR[['2-5', '5-9','9-16','5+','16+','Car','Airplane','Train','Other']]\n",
    "heatmap"
   ]
  },
  {
   "cell_type": "code",
   "execution_count": 104,
   "metadata": {},
   "outputs": [
    {
     "data": {
      "application/vnd.plotly.v1+json": {
       "config": {
        "linkText": "Export to plot.ly",
        "plotlyServerURL": "https://plot.ly",
        "showLink": true
       },
       "data": [
        {
         "colorscale": [
          [
           0,
           "rgb(255,255,204)"
          ],
          [
           0.125,
           "rgb(255,237,160)"
          ],
          [
           0.25,
           "rgb(254,217,118)"
          ],
          [
           0.375,
           "rgb(254,178,76)"
          ],
          [
           0.5,
           "rgb(253,141,60)"
          ],
          [
           0.625,
           "rgb(252,78,42)"
          ],
          [
           0.75,
           "rgb(227,26,28)"
          ],
          [
           0.875,
           "rgb(189,0,38)"
          ],
          [
           1,
           "rgb(128,0,38)"
          ]
         ],
         "type": "heatmap",
         "x": [
          "Totaal vakanties",
          "Vakantiebestemming: Nederland",
          "Vakantiebestemming: buitenland",
          "Winterseizoen",
          "Zomerseizoen"
         ],
         "y": [
          "2-5",
          "5-9",
          "9-16",
          "5+",
          "16+",
          "Car",
          "Airplane",
          "Train",
          "Other"
         ],
         "z": [
          [
           15063000,
           11330000,
           6402000,
           10419000,
           9125000
          ],
          [
           16355000,
           8336000,
           10188000,
           8808000,
           11028000
          ],
          [
           12026000,
           2692000,
           9882000,
           4072000,
           9344000
          ],
          [
           25883000,
           10824000,
           20595000,
           12953000,
           23265000
          ],
          [
           9756000,
           1800000,
           8179000,
           2304000,
           8298000
          ],
          [
           22362000,
           16194000,
           12828000,
           13589000,
           18711000
          ],
          [
           12841000,
           0,
           12841000,
           6807000,
           9353000
          ],
          [
           2444000,
           1528000,
           1077000,
           1313000,
           1419000
          ],
          [
           3313000,
           1530000,
           2057000,
           1374000,
           2311000
          ]
         ],
         "zmax": 25883000,
         "zmin": 0
        }
       ],
       "layout": {
        "legend": {
         "bgcolor": "#F5F6F9",
         "font": {
          "color": "#4D5663"
         }
        },
        "paper_bgcolor": "#F5F6F9",
        "plot_bgcolor": "#F5F6F9",
        "template": {
         "data": {
          "bar": [
           {
            "error_x": {
             "color": "#2a3f5f"
            },
            "error_y": {
             "color": "#2a3f5f"
            },
            "marker": {
             "line": {
              "color": "#E5ECF6",
              "width": 0.5
             }
            },
            "type": "bar"
           }
          ],
          "barpolar": [
           {
            "marker": {
             "line": {
              "color": "#E5ECF6",
              "width": 0.5
             }
            },
            "type": "barpolar"
           }
          ],
          "carpet": [
           {
            "aaxis": {
             "endlinecolor": "#2a3f5f",
             "gridcolor": "white",
             "linecolor": "white",
             "minorgridcolor": "white",
             "startlinecolor": "#2a3f5f"
            },
            "baxis": {
             "endlinecolor": "#2a3f5f",
             "gridcolor": "white",
             "linecolor": "white",
             "minorgridcolor": "white",
             "startlinecolor": "#2a3f5f"
            },
            "type": "carpet"
           }
          ],
          "choropleth": [
           {
            "colorbar": {
             "outlinewidth": 0,
             "ticks": ""
            },
            "type": "choropleth"
           }
          ],
          "contour": [
           {
            "colorbar": {
             "outlinewidth": 0,
             "ticks": ""
            },
            "colorscale": [
             [
              0,
              "#0d0887"
             ],
             [
              0.1111111111111111,
              "#46039f"
             ],
             [
              0.2222222222222222,
              "#7201a8"
             ],
             [
              0.3333333333333333,
              "#9c179e"
             ],
             [
              0.4444444444444444,
              "#bd3786"
             ],
             [
              0.5555555555555556,
              "#d8576b"
             ],
             [
              0.6666666666666666,
              "#ed7953"
             ],
             [
              0.7777777777777778,
              "#fb9f3a"
             ],
             [
              0.8888888888888888,
              "#fdca26"
             ],
             [
              1,
              "#f0f921"
             ]
            ],
            "type": "contour"
           }
          ],
          "contourcarpet": [
           {
            "colorbar": {
             "outlinewidth": 0,
             "ticks": ""
            },
            "type": "contourcarpet"
           }
          ],
          "heatmap": [
           {
            "colorbar": {
             "outlinewidth": 0,
             "ticks": ""
            },
            "colorscale": [
             [
              0,
              "#0d0887"
             ],
             [
              0.1111111111111111,
              "#46039f"
             ],
             [
              0.2222222222222222,
              "#7201a8"
             ],
             [
              0.3333333333333333,
              "#9c179e"
             ],
             [
              0.4444444444444444,
              "#bd3786"
             ],
             [
              0.5555555555555556,
              "#d8576b"
             ],
             [
              0.6666666666666666,
              "#ed7953"
             ],
             [
              0.7777777777777778,
              "#fb9f3a"
             ],
             [
              0.8888888888888888,
              "#fdca26"
             ],
             [
              1,
              "#f0f921"
             ]
            ],
            "type": "heatmap"
           }
          ],
          "heatmapgl": [
           {
            "colorbar": {
             "outlinewidth": 0,
             "ticks": ""
            },
            "colorscale": [
             [
              0,
              "#0d0887"
             ],
             [
              0.1111111111111111,
              "#46039f"
             ],
             [
              0.2222222222222222,
              "#7201a8"
             ],
             [
              0.3333333333333333,
              "#9c179e"
             ],
             [
              0.4444444444444444,
              "#bd3786"
             ],
             [
              0.5555555555555556,
              "#d8576b"
             ],
             [
              0.6666666666666666,
              "#ed7953"
             ],
             [
              0.7777777777777778,
              "#fb9f3a"
             ],
             [
              0.8888888888888888,
              "#fdca26"
             ],
             [
              1,
              "#f0f921"
             ]
            ],
            "type": "heatmapgl"
           }
          ],
          "histogram": [
           {
            "marker": {
             "colorbar": {
              "outlinewidth": 0,
              "ticks": ""
             }
            },
            "type": "histogram"
           }
          ],
          "histogram2d": [
           {
            "colorbar": {
             "outlinewidth": 0,
             "ticks": ""
            },
            "colorscale": [
             [
              0,
              "#0d0887"
             ],
             [
              0.1111111111111111,
              "#46039f"
             ],
             [
              0.2222222222222222,
              "#7201a8"
             ],
             [
              0.3333333333333333,
              "#9c179e"
             ],
             [
              0.4444444444444444,
              "#bd3786"
             ],
             [
              0.5555555555555556,
              "#d8576b"
             ],
             [
              0.6666666666666666,
              "#ed7953"
             ],
             [
              0.7777777777777778,
              "#fb9f3a"
             ],
             [
              0.8888888888888888,
              "#fdca26"
             ],
             [
              1,
              "#f0f921"
             ]
            ],
            "type": "histogram2d"
           }
          ],
          "histogram2dcontour": [
           {
            "colorbar": {
             "outlinewidth": 0,
             "ticks": ""
            },
            "colorscale": [
             [
              0,
              "#0d0887"
             ],
             [
              0.1111111111111111,
              "#46039f"
             ],
             [
              0.2222222222222222,
              "#7201a8"
             ],
             [
              0.3333333333333333,
              "#9c179e"
             ],
             [
              0.4444444444444444,
              "#bd3786"
             ],
             [
              0.5555555555555556,
              "#d8576b"
             ],
             [
              0.6666666666666666,
              "#ed7953"
             ],
             [
              0.7777777777777778,
              "#fb9f3a"
             ],
             [
              0.8888888888888888,
              "#fdca26"
             ],
             [
              1,
              "#f0f921"
             ]
            ],
            "type": "histogram2dcontour"
           }
          ],
          "mesh3d": [
           {
            "colorbar": {
             "outlinewidth": 0,
             "ticks": ""
            },
            "type": "mesh3d"
           }
          ],
          "parcoords": [
           {
            "line": {
             "colorbar": {
              "outlinewidth": 0,
              "ticks": ""
             }
            },
            "type": "parcoords"
           }
          ],
          "scatter": [
           {
            "marker": {
             "colorbar": {
              "outlinewidth": 0,
              "ticks": ""
             }
            },
            "type": "scatter"
           }
          ],
          "scatter3d": [
           {
            "line": {
             "colorbar": {
              "outlinewidth": 0,
              "ticks": ""
             }
            },
            "marker": {
             "colorbar": {
              "outlinewidth": 0,
              "ticks": ""
             }
            },
            "type": "scatter3d"
           }
          ],
          "scattercarpet": [
           {
            "marker": {
             "colorbar": {
              "outlinewidth": 0,
              "ticks": ""
             }
            },
            "type": "scattercarpet"
           }
          ],
          "scattergeo": [
           {
            "marker": {
             "colorbar": {
              "outlinewidth": 0,
              "ticks": ""
             }
            },
            "type": "scattergeo"
           }
          ],
          "scattergl": [
           {
            "marker": {
             "colorbar": {
              "outlinewidth": 0,
              "ticks": ""
             }
            },
            "type": "scattergl"
           }
          ],
          "scattermapbox": [
           {
            "marker": {
             "colorbar": {
              "outlinewidth": 0,
              "ticks": ""
             }
            },
            "type": "scattermapbox"
           }
          ],
          "scatterpolar": [
           {
            "marker": {
             "colorbar": {
              "outlinewidth": 0,
              "ticks": ""
             }
            },
            "type": "scatterpolar"
           }
          ],
          "scatterpolargl": [
           {
            "marker": {
             "colorbar": {
              "outlinewidth": 0,
              "ticks": ""
             }
            },
            "type": "scatterpolargl"
           }
          ],
          "scatterternary": [
           {
            "marker": {
             "colorbar": {
              "outlinewidth": 0,
              "ticks": ""
             }
            },
            "type": "scatterternary"
           }
          ],
          "surface": [
           {
            "colorbar": {
             "outlinewidth": 0,
             "ticks": ""
            },
            "colorscale": [
             [
              0,
              "#0d0887"
             ],
             [
              0.1111111111111111,
              "#46039f"
             ],
             [
              0.2222222222222222,
              "#7201a8"
             ],
             [
              0.3333333333333333,
              "#9c179e"
             ],
             [
              0.4444444444444444,
              "#bd3786"
             ],
             [
              0.5555555555555556,
              "#d8576b"
             ],
             [
              0.6666666666666666,
              "#ed7953"
             ],
             [
              0.7777777777777778,
              "#fb9f3a"
             ],
             [
              0.8888888888888888,
              "#fdca26"
             ],
             [
              1,
              "#f0f921"
             ]
            ],
            "type": "surface"
           }
          ],
          "table": [
           {
            "cells": {
             "fill": {
              "color": "#EBF0F8"
             },
             "line": {
              "color": "white"
             }
            },
            "header": {
             "fill": {
              "color": "#C8D4E3"
             },
             "line": {
              "color": "white"
             }
            },
            "type": "table"
           }
          ]
         },
         "layout": {
          "annotationdefaults": {
           "arrowcolor": "#2a3f5f",
           "arrowhead": 0,
           "arrowwidth": 1
          },
          "colorscale": {
           "diverging": [
            [
             0,
             "#8e0152"
            ],
            [
             0.1,
             "#c51b7d"
            ],
            [
             0.2,
             "#de77ae"
            ],
            [
             0.3,
             "#f1b6da"
            ],
            [
             0.4,
             "#fde0ef"
            ],
            [
             0.5,
             "#f7f7f7"
            ],
            [
             0.6,
             "#e6f5d0"
            ],
            [
             0.7,
             "#b8e186"
            ],
            [
             0.8,
             "#7fbc41"
            ],
            [
             0.9,
             "#4d9221"
            ],
            [
             1,
             "#276419"
            ]
           ],
           "sequential": [
            [
             0,
             "#0d0887"
            ],
            [
             0.1111111111111111,
             "#46039f"
            ],
            [
             0.2222222222222222,
             "#7201a8"
            ],
            [
             0.3333333333333333,
             "#9c179e"
            ],
            [
             0.4444444444444444,
             "#bd3786"
            ],
            [
             0.5555555555555556,
             "#d8576b"
            ],
            [
             0.6666666666666666,
             "#ed7953"
            ],
            [
             0.7777777777777778,
             "#fb9f3a"
            ],
            [
             0.8888888888888888,
             "#fdca26"
            ],
            [
             1,
             "#f0f921"
            ]
           ],
           "sequentialminus": [
            [
             0,
             "#0d0887"
            ],
            [
             0.1111111111111111,
             "#46039f"
            ],
            [
             0.2222222222222222,
             "#7201a8"
            ],
            [
             0.3333333333333333,
             "#9c179e"
            ],
            [
             0.4444444444444444,
             "#bd3786"
            ],
            [
             0.5555555555555556,
             "#d8576b"
            ],
            [
             0.6666666666666666,
             "#ed7953"
            ],
            [
             0.7777777777777778,
             "#fb9f3a"
            ],
            [
             0.8888888888888888,
             "#fdca26"
            ],
            [
             1,
             "#f0f921"
            ]
           ]
          },
          "colorway": [
           "#636efa",
           "#EF553B",
           "#00cc96",
           "#ab63fa",
           "#FFA15A",
           "#19d3f3",
           "#FF6692",
           "#B6E880",
           "#FF97FF",
           "#FECB52"
          ],
          "font": {
           "color": "#2a3f5f"
          },
          "geo": {
           "bgcolor": "white",
           "lakecolor": "white",
           "landcolor": "#E5ECF6",
           "showlakes": true,
           "showland": true,
           "subunitcolor": "white"
          },
          "hoverlabel": {
           "align": "left"
          },
          "hovermode": "closest",
          "mapbox": {
           "style": "light"
          },
          "paper_bgcolor": "white",
          "plot_bgcolor": "#E5ECF6",
          "polar": {
           "angularaxis": {
            "gridcolor": "white",
            "linecolor": "white",
            "ticks": ""
           },
           "bgcolor": "#E5ECF6",
           "radialaxis": {
            "gridcolor": "white",
            "linecolor": "white",
            "ticks": ""
           }
          },
          "scene": {
           "xaxis": {
            "backgroundcolor": "#E5ECF6",
            "gridcolor": "white",
            "gridwidth": 2,
            "linecolor": "white",
            "showbackground": true,
            "ticks": "",
            "zerolinecolor": "white"
           },
           "yaxis": {
            "backgroundcolor": "#E5ECF6",
            "gridcolor": "white",
            "gridwidth": 2,
            "linecolor": "white",
            "showbackground": true,
            "ticks": "",
            "zerolinecolor": "white"
           },
           "zaxis": {
            "backgroundcolor": "#E5ECF6",
            "gridcolor": "white",
            "gridwidth": 2,
            "linecolor": "white",
            "showbackground": true,
            "ticks": "",
            "zerolinecolor": "white"
           }
          },
          "shapedefaults": {
           "line": {
            "color": "#2a3f5f"
           }
          },
          "ternary": {
           "aaxis": {
            "gridcolor": "white",
            "linecolor": "white",
            "ticks": ""
           },
           "baxis": {
            "gridcolor": "white",
            "linecolor": "white",
            "ticks": ""
           },
           "bgcolor": "#E5ECF6",
           "caxis": {
            "gridcolor": "white",
            "linecolor": "white",
            "ticks": ""
           }
          },
          "title": {
           "x": 0.05
          },
          "xaxis": {
           "automargin": true,
           "gridcolor": "white",
           "linecolor": "white",
           "ticks": "",
           "zerolinecolor": "white",
           "zerolinewidth": 2
          },
          "yaxis": {
           "automargin": true,
           "gridcolor": "white",
           "linecolor": "white",
           "ticks": "",
           "zerolinecolor": "white",
           "zerolinewidth": 2
          }
         }
        },
        "title": {
         "font": {
          "color": "#4D5663"
         }
        },
        "xaxis": {
         "gridcolor": "#E1E5ED",
         "showgrid": true,
         "tickfont": {
          "color": "#4D5663"
         },
         "title": {
          "font": {
           "color": "#4D5663"
          },
          "text": ""
         },
         "zerolinecolor": "#E1E5ED"
        },
        "yaxis": {
         "gridcolor": "#E1E5ED",
         "showgrid": true,
         "tickfont": {
          "color": "#4D5663"
         },
         "title": {
          "font": {
           "color": "#4D5663"
          },
          "text": ""
         },
         "zerolinecolor": "#E1E5ED"
        }
       }
      },
      "text/html": [
       "<div>\n",
       "        \n",
       "        \n",
       "            <div id=\"2442b0b0-2fc3-4fc5-8702-2d7e700e7cfc\" class=\"plotly-graph-div\" style=\"height:525px; width:100%;\"></div>\n",
       "            <script type=\"text/javascript\">\n",
       "                require([\"plotly\"], function(Plotly) {\n",
       "                    window.PLOTLYENV=window.PLOTLYENV || {};\n",
       "                    window.PLOTLYENV.BASE_URL='https://plot.ly';\n",
       "                    \n",
       "                if (document.getElementById(\"2442b0b0-2fc3-4fc5-8702-2d7e700e7cfc\")) {\n",
       "                    Plotly.newPlot(\n",
       "                        '2442b0b0-2fc3-4fc5-8702-2d7e700e7cfc',\n",
       "                        [{\"colorscale\": [[0.0, \"rgb(255,255,204)\"], [0.125, \"rgb(255,237,160)\"], [0.25, \"rgb(254,217,118)\"], [0.375, \"rgb(254,178,76)\"], [0.5, \"rgb(253,141,60)\"], [0.625, \"rgb(252,78,42)\"], [0.75, \"rgb(227,26,28)\"], [0.875, \"rgb(189,0,38)\"], [1.0, \"rgb(128,0,38)\"]], \"type\": \"heatmap\", \"x\": [\"Totaal vakanties\", \"Vakantiebestemming: Nederland\", \"Vakantiebestemming: buitenland\", \"Winterseizoen\", \"Zomerseizoen\"], \"y\": [\"2-5\", \"5-9\", \"9-16\", \"5+\", \"16+\", \"Car\", \"Airplane\", \"Train\", \"Other\"], \"z\": [[15063000, 11330000, 6402000, 10419000, 9125000], [16355000, 8336000, 10188000, 8808000, 11028000], [12026000, 2692000, 9882000, 4072000, 9344000], [25883000, 10824000, 20595000, 12953000, 23265000], [9756000, 1800000, 8179000, 2304000, 8298000], [22362000, 16194000, 12828000, 13589000, 18711000], [12841000, 0, 12841000, 6807000, 9353000], [2444000, 1528000, 1077000, 1313000, 1419000], [3313000, 1530000, 2057000, 1374000, 2311000]], \"zmax\": 25883000, \"zmin\": 0}],\n",
       "                        {\"legend\": {\"bgcolor\": \"#F5F6F9\", \"font\": {\"color\": \"#4D5663\"}}, \"paper_bgcolor\": \"#F5F6F9\", \"plot_bgcolor\": \"#F5F6F9\", \"template\": {\"data\": {\"bar\": [{\"error_x\": {\"color\": \"#2a3f5f\"}, \"error_y\": {\"color\": \"#2a3f5f\"}, \"marker\": {\"line\": {\"color\": \"#E5ECF6\", \"width\": 0.5}}, \"type\": \"bar\"}], \"barpolar\": [{\"marker\": {\"line\": {\"color\": \"#E5ECF6\", \"width\": 0.5}}, \"type\": \"barpolar\"}], \"carpet\": [{\"aaxis\": {\"endlinecolor\": \"#2a3f5f\", \"gridcolor\": \"white\", \"linecolor\": \"white\", \"minorgridcolor\": \"white\", \"startlinecolor\": \"#2a3f5f\"}, \"baxis\": {\"endlinecolor\": \"#2a3f5f\", \"gridcolor\": \"white\", \"linecolor\": \"white\", \"minorgridcolor\": \"white\", \"startlinecolor\": \"#2a3f5f\"}, \"type\": \"carpet\"}], \"choropleth\": [{\"colorbar\": {\"outlinewidth\": 0, \"ticks\": \"\"}, \"type\": \"choropleth\"}], \"contour\": [{\"colorbar\": {\"outlinewidth\": 0, \"ticks\": \"\"}, \"colorscale\": [[0.0, \"#0d0887\"], [0.1111111111111111, \"#46039f\"], [0.2222222222222222, \"#7201a8\"], [0.3333333333333333, \"#9c179e\"], [0.4444444444444444, \"#bd3786\"], [0.5555555555555556, \"#d8576b\"], [0.6666666666666666, \"#ed7953\"], [0.7777777777777778, \"#fb9f3a\"], [0.8888888888888888, \"#fdca26\"], [1.0, \"#f0f921\"]], \"type\": \"contour\"}], \"contourcarpet\": [{\"colorbar\": {\"outlinewidth\": 0, \"ticks\": \"\"}, \"type\": \"contourcarpet\"}], \"heatmap\": [{\"colorbar\": {\"outlinewidth\": 0, \"ticks\": \"\"}, \"colorscale\": [[0.0, \"#0d0887\"], [0.1111111111111111, \"#46039f\"], [0.2222222222222222, \"#7201a8\"], [0.3333333333333333, \"#9c179e\"], [0.4444444444444444, \"#bd3786\"], [0.5555555555555556, \"#d8576b\"], [0.6666666666666666, \"#ed7953\"], [0.7777777777777778, \"#fb9f3a\"], [0.8888888888888888, \"#fdca26\"], [1.0, \"#f0f921\"]], \"type\": \"heatmap\"}], \"heatmapgl\": [{\"colorbar\": {\"outlinewidth\": 0, \"ticks\": \"\"}, \"colorscale\": [[0.0, \"#0d0887\"], [0.1111111111111111, \"#46039f\"], [0.2222222222222222, \"#7201a8\"], [0.3333333333333333, \"#9c179e\"], [0.4444444444444444, \"#bd3786\"], [0.5555555555555556, \"#d8576b\"], [0.6666666666666666, \"#ed7953\"], [0.7777777777777778, \"#fb9f3a\"], [0.8888888888888888, \"#fdca26\"], [1.0, \"#f0f921\"]], \"type\": \"heatmapgl\"}], \"histogram\": [{\"marker\": {\"colorbar\": {\"outlinewidth\": 0, \"ticks\": \"\"}}, \"type\": \"histogram\"}], \"histogram2d\": [{\"colorbar\": {\"outlinewidth\": 0, \"ticks\": \"\"}, \"colorscale\": [[0.0, \"#0d0887\"], [0.1111111111111111, \"#46039f\"], [0.2222222222222222, \"#7201a8\"], [0.3333333333333333, \"#9c179e\"], [0.4444444444444444, \"#bd3786\"], [0.5555555555555556, \"#d8576b\"], [0.6666666666666666, \"#ed7953\"], [0.7777777777777778, \"#fb9f3a\"], [0.8888888888888888, \"#fdca26\"], [1.0, \"#f0f921\"]], \"type\": \"histogram2d\"}], \"histogram2dcontour\": [{\"colorbar\": {\"outlinewidth\": 0, \"ticks\": \"\"}, \"colorscale\": [[0.0, \"#0d0887\"], [0.1111111111111111, \"#46039f\"], [0.2222222222222222, \"#7201a8\"], [0.3333333333333333, \"#9c179e\"], [0.4444444444444444, \"#bd3786\"], [0.5555555555555556, \"#d8576b\"], [0.6666666666666666, \"#ed7953\"], [0.7777777777777778, \"#fb9f3a\"], [0.8888888888888888, \"#fdca26\"], [1.0, \"#f0f921\"]], \"type\": \"histogram2dcontour\"}], \"mesh3d\": [{\"colorbar\": {\"outlinewidth\": 0, \"ticks\": \"\"}, \"type\": \"mesh3d\"}], \"parcoords\": [{\"line\": {\"colorbar\": {\"outlinewidth\": 0, \"ticks\": \"\"}}, \"type\": \"parcoords\"}], \"scatter\": [{\"marker\": {\"colorbar\": {\"outlinewidth\": 0, \"ticks\": \"\"}}, \"type\": \"scatter\"}], \"scatter3d\": [{\"line\": {\"colorbar\": {\"outlinewidth\": 0, \"ticks\": \"\"}}, \"marker\": {\"colorbar\": {\"outlinewidth\": 0, \"ticks\": \"\"}}, \"type\": \"scatter3d\"}], \"scattercarpet\": [{\"marker\": {\"colorbar\": {\"outlinewidth\": 0, \"ticks\": \"\"}}, \"type\": \"scattercarpet\"}], \"scattergeo\": [{\"marker\": {\"colorbar\": {\"outlinewidth\": 0, \"ticks\": \"\"}}, \"type\": \"scattergeo\"}], \"scattergl\": [{\"marker\": {\"colorbar\": {\"outlinewidth\": 0, \"ticks\": \"\"}}, \"type\": \"scattergl\"}], \"scattermapbox\": [{\"marker\": {\"colorbar\": {\"outlinewidth\": 0, \"ticks\": \"\"}}, \"type\": \"scattermapbox\"}], \"scatterpolar\": [{\"marker\": {\"colorbar\": {\"outlinewidth\": 0, \"ticks\": \"\"}}, \"type\": \"scatterpolar\"}], \"scatterpolargl\": [{\"marker\": {\"colorbar\": {\"outlinewidth\": 0, \"ticks\": \"\"}}, \"type\": \"scatterpolargl\"}], \"scatterternary\": [{\"marker\": {\"colorbar\": {\"outlinewidth\": 0, \"ticks\": \"\"}}, \"type\": \"scatterternary\"}], \"surface\": [{\"colorbar\": {\"outlinewidth\": 0, \"ticks\": \"\"}, \"colorscale\": [[0.0, \"#0d0887\"], [0.1111111111111111, \"#46039f\"], [0.2222222222222222, \"#7201a8\"], [0.3333333333333333, \"#9c179e\"], [0.4444444444444444, \"#bd3786\"], [0.5555555555555556, \"#d8576b\"], [0.6666666666666666, \"#ed7953\"], [0.7777777777777778, \"#fb9f3a\"], [0.8888888888888888, \"#fdca26\"], [1.0, \"#f0f921\"]], \"type\": \"surface\"}], \"table\": [{\"cells\": {\"fill\": {\"color\": \"#EBF0F8\"}, \"line\": {\"color\": \"white\"}}, \"header\": {\"fill\": {\"color\": \"#C8D4E3\"}, \"line\": {\"color\": \"white\"}}, \"type\": \"table\"}]}, \"layout\": {\"annotationdefaults\": {\"arrowcolor\": \"#2a3f5f\", \"arrowhead\": 0, \"arrowwidth\": 1}, \"colorscale\": {\"diverging\": [[0, \"#8e0152\"], [0.1, \"#c51b7d\"], [0.2, \"#de77ae\"], [0.3, \"#f1b6da\"], [0.4, \"#fde0ef\"], [0.5, \"#f7f7f7\"], [0.6, \"#e6f5d0\"], [0.7, \"#b8e186\"], [0.8, \"#7fbc41\"], [0.9, \"#4d9221\"], [1, \"#276419\"]], \"sequential\": [[0.0, \"#0d0887\"], [0.1111111111111111, \"#46039f\"], [0.2222222222222222, \"#7201a8\"], [0.3333333333333333, \"#9c179e\"], [0.4444444444444444, \"#bd3786\"], [0.5555555555555556, \"#d8576b\"], [0.6666666666666666, \"#ed7953\"], [0.7777777777777778, \"#fb9f3a\"], [0.8888888888888888, \"#fdca26\"], [1.0, \"#f0f921\"]], \"sequentialminus\": [[0.0, \"#0d0887\"], [0.1111111111111111, \"#46039f\"], [0.2222222222222222, \"#7201a8\"], [0.3333333333333333, \"#9c179e\"], [0.4444444444444444, \"#bd3786\"], [0.5555555555555556, \"#d8576b\"], [0.6666666666666666, \"#ed7953\"], [0.7777777777777778, \"#fb9f3a\"], [0.8888888888888888, \"#fdca26\"], [1.0, \"#f0f921\"]]}, \"colorway\": [\"#636efa\", \"#EF553B\", \"#00cc96\", \"#ab63fa\", \"#FFA15A\", \"#19d3f3\", \"#FF6692\", \"#B6E880\", \"#FF97FF\", \"#FECB52\"], \"font\": {\"color\": \"#2a3f5f\"}, \"geo\": {\"bgcolor\": \"white\", \"lakecolor\": \"white\", \"landcolor\": \"#E5ECF6\", \"showlakes\": true, \"showland\": true, \"subunitcolor\": \"white\"}, \"hoverlabel\": {\"align\": \"left\"}, \"hovermode\": \"closest\", \"mapbox\": {\"style\": \"light\"}, \"paper_bgcolor\": \"white\", \"plot_bgcolor\": \"#E5ECF6\", \"polar\": {\"angularaxis\": {\"gridcolor\": \"white\", \"linecolor\": \"white\", \"ticks\": \"\"}, \"bgcolor\": \"#E5ECF6\", \"radialaxis\": {\"gridcolor\": \"white\", \"linecolor\": \"white\", \"ticks\": \"\"}}, \"scene\": {\"xaxis\": {\"backgroundcolor\": \"#E5ECF6\", \"gridcolor\": \"white\", \"gridwidth\": 2, \"linecolor\": \"white\", \"showbackground\": true, \"ticks\": \"\", \"zerolinecolor\": \"white\"}, \"yaxis\": {\"backgroundcolor\": \"#E5ECF6\", \"gridcolor\": \"white\", \"gridwidth\": 2, \"linecolor\": \"white\", \"showbackground\": true, \"ticks\": \"\", \"zerolinecolor\": \"white\"}, \"zaxis\": {\"backgroundcolor\": \"#E5ECF6\", \"gridcolor\": \"white\", \"gridwidth\": 2, \"linecolor\": \"white\", \"showbackground\": true, \"ticks\": \"\", \"zerolinecolor\": \"white\"}}, \"shapedefaults\": {\"line\": {\"color\": \"#2a3f5f\"}}, \"ternary\": {\"aaxis\": {\"gridcolor\": \"white\", \"linecolor\": \"white\", \"ticks\": \"\"}, \"baxis\": {\"gridcolor\": \"white\", \"linecolor\": \"white\", \"ticks\": \"\"}, \"bgcolor\": \"#E5ECF6\", \"caxis\": {\"gridcolor\": \"white\", \"linecolor\": \"white\", \"ticks\": \"\"}}, \"title\": {\"x\": 0.05}, \"xaxis\": {\"automargin\": true, \"gridcolor\": \"white\", \"linecolor\": \"white\", \"ticks\": \"\", \"zerolinecolor\": \"white\", \"zerolinewidth\": 2}, \"yaxis\": {\"automargin\": true, \"gridcolor\": \"white\", \"linecolor\": \"white\", \"ticks\": \"\", \"zerolinecolor\": \"white\", \"zerolinewidth\": 2}}}, \"title\": {\"font\": {\"color\": \"#4D5663\"}}, \"xaxis\": {\"gridcolor\": \"#E1E5ED\", \"showgrid\": true, \"tickfont\": {\"color\": \"#4D5663\"}, \"title\": {\"font\": {\"color\": \"#4D5663\"}, \"text\": \"\"}, \"zerolinecolor\": \"#E1E5ED\"}, \"yaxis\": {\"gridcolor\": \"#E1E5ED\", \"showgrid\": true, \"tickfont\": {\"color\": \"#4D5663\"}, \"title\": {\"font\": {\"color\": \"#4D5663\"}, \"text\": \"\"}, \"zerolinecolor\": \"#E1E5ED\"}},\n",
       "                        {\"showLink\": true, \"linkText\": \"Export to plot.ly\", \"plotlyServerURL\": \"https://plot.ly\", \"responsive\": true}\n",
       "                    ).then(function(){\n",
       "                            \n",
       "var gd = document.getElementById('2442b0b0-2fc3-4fc5-8702-2d7e700e7cfc');\n",
       "var x = new MutationObserver(function (mutations, observer) {{\n",
       "        var display = window.getComputedStyle(gd).display;\n",
       "        if (!display || display === 'none') {{\n",
       "            console.log([gd, 'removed!']);\n",
       "            Plotly.purge(gd);\n",
       "            observer.disconnect();\n",
       "        }}\n",
       "}});\n",
       "\n",
       "// Listen for the removal of the full notebook cells\n",
       "var notebookContainer = gd.closest('#notebook-container');\n",
       "if (notebookContainer) {{\n",
       "    x.observe(notebookContainer, {childList: true});\n",
       "}}\n",
       "\n",
       "// Listen for the clearing of the current output cell\n",
       "var outputEl = gd.closest('.output');\n",
       "if (outputEl) {{\n",
       "    x.observe(outputEl, {childList: true});\n",
       "}}\n",
       "\n",
       "                        })\n",
       "                };\n",
       "                });\n",
       "            </script>\n",
       "        </div>"
      ]
     },
     "metadata": {},
     "output_type": "display_data"
    }
   ],
   "source": [
    "heatmap.iplot(kind='heatmap', \n",
    "           colorscale='YlOrRd', \n",
    "           #xTitle='Tenure', \n",
    "           #yTitle='Month Level', \n",
    "           #title='Avg. Churn Rates by Month Level & Tenure')\n",
    "             )"
   ]
  },
  {
   "cell_type": "code",
   "execution_count": null,
   "metadata": {},
   "outputs": [],
   "source": [
    "'''\n",
    "REMARCS CONCEDERING CLUSTERED DATA ANALYSIS \n",
    "https://largescaleassessmentsineducation.springeropen.com/articles/10.1186/2196-0739-1-7\n",
    "\n",
    "'''"
   ]
  },
  {
   "cell_type": "code",
   "execution_count": 121,
   "metadata": {},
   "outputs": [],
   "source": []
  },
  {
   "cell_type": "code",
   "execution_count": null,
   "metadata": {},
   "outputs": [],
   "source": []
  }
 ],
 "metadata": {
  "kernelspec": {
   "display_name": "Python 3",
   "language": "python",
   "name": "python3"
  },
  "language_info": {
   "codemirror_mode": {
    "name": "ipython",
    "version": 3
   },
   "file_extension": ".py",
   "mimetype": "text/x-python",
   "name": "python",
   "nbconvert_exporter": "python",
   "pygments_lexer": "ipython3",
   "version": "3.7.4"
  }
 },
 "nbformat": 4,
 "nbformat_minor": 2
}
